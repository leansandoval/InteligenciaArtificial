{
 "cells": [
  {
   "cell_type": "markdown",
   "metadata": {
    "id": "Xo327Cz_qdBV"
   },
   "source": [
    "# Entrega 2 - Implementación de Modelos"
   ]
  },
  {
   "cell_type": "markdown",
   "metadata": {
    "id": "YdeHa5Y6sY7s"
   },
   "source": [
    "En la segunda entrega, el objetivo es que los participantes desarrollen habilidades en la construcción de modelos predictivos. Se trabajarán los modelos de regresión y clasificación, permitiendo a los participantes comprender y aplicar estos algoritmos para resolver problemas específicos.\n",
    "\n",
    "**ACLARACIÓN: DEBEN SELECCIONAR UN MODELO PARA TRABAJAR CON EL DATASET DE CLASIFICACIÓN Y OTRO MODELO PARA TRABAJAR CON EL DATASET DE REGRESIÓN. UTILIZAR UN ARCHIVO DE GOOGLE COLAB DIFERENTE POR CADA APLICACIÓN DE MODELO.**"
   ]
  },
  {
   "cell_type": "markdown",
   "metadata": {
    "id": "UodLFKjJrpkN"
   },
   "source": [
    "## Profesores"
   ]
  },
  {
   "cell_type": "markdown",
   "metadata": {
    "id": "Nyzhnxqdrs8_"
   },
   "source": [
    "*   Dr. Ierache, Jorge\n",
    "*   Dr. Becerra Martín\n",
    "*   Ing. Sanz Diego"
   ]
  },
  {
   "cell_type": "markdown",
   "metadata": {
    "id": "fbQ1pHTfr4FR"
   },
   "source": [
    "## Alumnos"
   ]
  },
  {
   "cell_type": "markdown",
   "metadata": {
    "id": "ZCtg6PNGr7YK"
   },
   "source": [
    "* Rodríguez, Emanuel Antonio\n",
    "* Romano, Jorge Darío\n",
    "* Sandoval Vasquez, Juan Leandro\n",
    "* Sierra, Nicolas Federico"
   ]
  },
  {
   "cell_type": "markdown",
   "metadata": {
    "id": "GUm6wQ4EqrI3"
   },
   "source": [
    "## Actividades"
   ]
  },
  {
   "cell_type": "markdown",
   "metadata": {},
   "source": [
    "### Aplicación de Modelo de Regresión"
   ]
  },
  {
   "cell_type": "markdown",
   "metadata": {},
   "source": [
    "* Seleccionar una variable objetivo y las variables predictoras adecuadas para el modelado de regresión.\n",
    "* Dividir el conjunto de datos en conjuntos de entrenamiento y prueba.\n",
    "* Aplicar un modelo de regresión, como regresión lineal o regresión logística.\n",
    "* Evaluar el rendimiento del modelo utilizando métricas apropiadas, como el error cuadrático medio o la precisión del modelo.\n",
    "* Ajustar y optimizar los parámetros del modelo para mejorar su rendimiento."
   ]
  },
  {
   "cell_type": "markdown",
   "metadata": {},
   "source": [
    "### Aplicación de Modelo de Clasificación"
   ]
  },
  {
   "cell_type": "markdown",
   "metadata": {
    "id": "dY9fYMTSquh8"
   },
   "source": [
    "* Seleccionar una variable objetivo y las variables predictoras adecuadas para el modelado de clasificación.\n",
    "* Aplicar un modelo de clasificación, como árboles de decisión, SVM o Random Forest.\n",
    "* Evaluar el rendimiento del modelo utilizando métricas apropiadas.\n",
    "* Ajustar y optimizar los parámetros del modelo para mejorar su rendimiento."
   ]
  },
  {
   "cell_type": "markdown",
   "metadata": {
    "id": "XnxBFGZTrAPt"
   },
   "source": [
    "## Procesos"
   ]
  },
  {
   "cell_type": "markdown",
   "metadata": {
    "id": "PeL4aqbSxVov"
   },
   "source": [
    "### Importaciones de librerías"
   ]
  },
  {
   "cell_type": "code",
   "execution_count": 948,
   "metadata": {
    "id": "5OBmIKFwtYSv"
   },
   "outputs": [],
   "source": [
    "# Carga y manipulación de datos\n",
    "import numpy as np\n",
    "import pandas as pd\n",
    "\n",
    "# Visualización\n",
    "import matplotlib.pyplot as plt\n",
    "import seaborn as sns\n",
    "\n",
    "from sklearn.linear_model import LinearRegression\n",
    "from sklearn.metrics import mean_squared_error, r2_score\n",
    "from sklearn.model_selection import train_test_split\n",
    "from sklearn.preprocessing import StandardScaler\n",
    "\n",
    "# Configuración visual\n",
    "sns.set_theme(style=\"whitegrid\")\n",
    "%matplotlib inline"
   ]
  },
  {
   "cell_type": "markdown",
   "metadata": {
    "id": "o_OuNL7BrCHQ"
   },
   "source": [
    "### 1 - Análisis exploratorio de datos"
   ]
  },
  {
   "cell_type": "markdown",
   "metadata": {
    "id": "-7R1EfmmrIWx"
   },
   "source": [
    "\n",
    "\n",
    "* Recopilar y examinar el conjunto de datos proporcionado.\n",
    "* Identificar las características clave de los datos, como variables numéricas, categóricas, etc.\n",
    "* Identificar posibles problemas en los datos, como valores atípicos o datos faltantes.\n",
    "*\tRealizar una limpieza inicial de los datos, si es necesario.\n",
    "*\tTrabajar sobre variables categóricas.\n"
   ]
  },
  {
   "cell_type": "markdown",
   "metadata": {
    "id": "cZ-NzBGRtf9U"
   },
   "source": [
    "#### a) Cargamos el dataset en un dataframe\n",
    "* La recopilación de los datos se obtuvieron del Sitio: **Kaggle** -\n",
    "Link de Datos: [FIFA 2021 Complete Player Dataset](https://www.kaggle.com/datasets/aayushmishra1512/fifa-2021-complete-player-data).\n",
    "* A continuación se realiza una muestra parcial del contenido de datos:"
   ]
  },
  {
   "cell_type": "code",
   "execution_count": 949,
   "metadata": {
    "colab": {
     "base_uri": "https://localhost:8080/",
     "height": 206
    },
    "executionInfo": {
     "elapsed": 146,
     "status": "ok",
     "timestamp": 1748833398986,
     "user": {
      "displayName": "Leandro Sandoval",
      "userId": "13944790235446664081"
     },
     "user_tz": 180
    },
    "id": "cL9jKVNWtEfP",
    "outputId": "a2b68d57-7a92-4aa0-f321-39348bf5ce1e"
   },
   "outputs": [
    {
     "data": {
      "text/html": [
       "<div>\n",
       "<style scoped>\n",
       "    .dataframe tbody tr th:only-of-type {\n",
       "        vertical-align: middle;\n",
       "    }\n",
       "\n",
       "    .dataframe tbody tr th {\n",
       "        vertical-align: top;\n",
       "    }\n",
       "\n",
       "    .dataframe thead th {\n",
       "        text-align: right;\n",
       "    }\n",
       "</style>\n",
       "<table border=\"1\" class=\"dataframe\">\n",
       "  <thead>\n",
       "    <tr style=\"text-align: right;\">\n",
       "      <th></th>\n",
       "      <th>player_id</th>\n",
       "      <th>name</th>\n",
       "      <th>nationality</th>\n",
       "      <th>position</th>\n",
       "      <th>overall</th>\n",
       "      <th>age</th>\n",
       "      <th>hits</th>\n",
       "      <th>potential</th>\n",
       "      <th>team</th>\n",
       "    </tr>\n",
       "  </thead>\n",
       "  <tbody>\n",
       "    <tr>\n",
       "      <th>0</th>\n",
       "      <td>158023</td>\n",
       "      <td>Lionel Messi</td>\n",
       "      <td>Argentina</td>\n",
       "      <td>ST|CF|RW</td>\n",
       "      <td>94</td>\n",
       "      <td>33</td>\n",
       "      <td>299</td>\n",
       "      <td>94</td>\n",
       "      <td>FC Barcelona</td>\n",
       "    </tr>\n",
       "    <tr>\n",
       "      <th>1</th>\n",
       "      <td>20801</td>\n",
       "      <td>Cristiano Ronaldo</td>\n",
       "      <td>Portugal</td>\n",
       "      <td>ST|LW</td>\n",
       "      <td>93</td>\n",
       "      <td>35</td>\n",
       "      <td>276</td>\n",
       "      <td>93</td>\n",
       "      <td>Juventus</td>\n",
       "    </tr>\n",
       "    <tr>\n",
       "      <th>2</th>\n",
       "      <td>190871</td>\n",
       "      <td>Neymar Jr</td>\n",
       "      <td>Brazil</td>\n",
       "      <td>CAM|LW</td>\n",
       "      <td>92</td>\n",
       "      <td>28</td>\n",
       "      <td>186</td>\n",
       "      <td>92</td>\n",
       "      <td>Paris Saint-Germain</td>\n",
       "    </tr>\n",
       "    <tr>\n",
       "      <th>3</th>\n",
       "      <td>203376</td>\n",
       "      <td>Virgil van Dijk</td>\n",
       "      <td>Netherlands</td>\n",
       "      <td>CB</td>\n",
       "      <td>91</td>\n",
       "      <td>29</td>\n",
       "      <td>127</td>\n",
       "      <td>92</td>\n",
       "      <td>Liverpool</td>\n",
       "    </tr>\n",
       "    <tr>\n",
       "      <th>4</th>\n",
       "      <td>200389</td>\n",
       "      <td>Jan Oblak</td>\n",
       "      <td>Slovenia</td>\n",
       "      <td>GK</td>\n",
       "      <td>91</td>\n",
       "      <td>27</td>\n",
       "      <td>47</td>\n",
       "      <td>93</td>\n",
       "      <td>Atlético Madrid</td>\n",
       "    </tr>\n",
       "  </tbody>\n",
       "</table>\n",
       "</div>"
      ],
      "text/plain": [
       "   player_id               name  nationality  position  overall  age  hits  \\\n",
       "0     158023       Lionel Messi    Argentina  ST|CF|RW       94   33   299   \n",
       "1      20801  Cristiano Ronaldo     Portugal     ST|LW       93   35   276   \n",
       "2     190871          Neymar Jr       Brazil    CAM|LW       92   28   186   \n",
       "3     203376    Virgil van Dijk  Netherlands        CB       91   29   127   \n",
       "4     200389          Jan Oblak     Slovenia        GK       91   27    47   \n",
       "\n",
       "   potential                  team  \n",
       "0         94         FC Barcelona   \n",
       "1         93             Juventus   \n",
       "2         92  Paris Saint-Germain   \n",
       "3         92            Liverpool   \n",
       "4         93      Atlético Madrid   "
      ]
     },
     "execution_count": 949,
     "metadata": {},
     "output_type": "execute_result"
    }
   ],
   "source": [
    "PATH_DATASET = 'FIFA21Complete.csv'\n",
    "SEPARADOR = \";\"\n",
    "df = pd.read_csv(PATH_DATASET, sep = SEPARADOR)\n",
    "df.head()"
   ]
  },
  {
   "cell_type": "markdown",
   "metadata": {
    "id": "o2mKLXN3tpOe"
   },
   "source": [
    "#### b) Información general del dataset"
   ]
  },
  {
   "cell_type": "code",
   "execution_count": 950,
   "metadata": {
    "colab": {
     "base_uri": "https://localhost:8080/",
     "height": 300
    },
    "executionInfo": {
     "elapsed": 31,
     "status": "ok",
     "timestamp": 1748833399018,
     "user": {
      "displayName": "Leandro Sandoval",
      "userId": "13944790235446664081"
     },
     "user_tz": 180
    },
    "id": "OXC6cLNCtnxp",
    "outputId": "6b23260a-7cc1-4949-ec3f-8f3ee964492e"
   },
   "outputs": [
    {
     "data": {
      "text/html": [
       "<div>\n",
       "<style scoped>\n",
       "    .dataframe tbody tr th:only-of-type {\n",
       "        vertical-align: middle;\n",
       "    }\n",
       "\n",
       "    .dataframe tbody tr th {\n",
       "        vertical-align: top;\n",
       "    }\n",
       "\n",
       "    .dataframe thead th {\n",
       "        text-align: right;\n",
       "    }\n",
       "</style>\n",
       "<table border=\"1\" class=\"dataframe\">\n",
       "  <thead>\n",
       "    <tr style=\"text-align: right;\">\n",
       "      <th></th>\n",
       "      <th>player_id</th>\n",
       "      <th>overall</th>\n",
       "      <th>age</th>\n",
       "      <th>hits</th>\n",
       "      <th>potential</th>\n",
       "    </tr>\n",
       "  </thead>\n",
       "  <tbody>\n",
       "    <tr>\n",
       "      <th>count</th>\n",
       "      <td>17981.000000</td>\n",
       "      <td>17981.000000</td>\n",
       "      <td>17981.000000</td>\n",
       "      <td>17981.000000</td>\n",
       "      <td>17981.000000</td>\n",
       "    </tr>\n",
       "    <tr>\n",
       "      <th>mean</th>\n",
       "      <td>220912.660531</td>\n",
       "      <td>67.274345</td>\n",
       "      <td>26.311440</td>\n",
       "      <td>2.689450</td>\n",
       "      <td>71.738057</td>\n",
       "    </tr>\n",
       "    <tr>\n",
       "      <th>std</th>\n",
       "      <td>27738.072671</td>\n",
       "      <td>5.924392</td>\n",
       "      <td>4.556077</td>\n",
       "      <td>10.846286</td>\n",
       "      <td>5.961968</td>\n",
       "    </tr>\n",
       "    <tr>\n",
       "      <th>min</th>\n",
       "      <td>41.000000</td>\n",
       "      <td>56.000000</td>\n",
       "      <td>17.000000</td>\n",
       "      <td>0.000000</td>\n",
       "      <td>57.000000</td>\n",
       "    </tr>\n",
       "    <tr>\n",
       "      <th>25%</th>\n",
       "      <td>204881.000000</td>\n",
       "      <td>63.000000</td>\n",
       "      <td>23.000000</td>\n",
       "      <td>0.000000</td>\n",
       "      <td>67.000000</td>\n",
       "    </tr>\n",
       "    <tr>\n",
       "      <th>50%</th>\n",
       "      <td>226753.000000</td>\n",
       "      <td>67.000000</td>\n",
       "      <td>26.000000</td>\n",
       "      <td>0.000000</td>\n",
       "      <td>71.000000</td>\n",
       "    </tr>\n",
       "    <tr>\n",
       "      <th>75%</th>\n",
       "      <td>241587.000000</td>\n",
       "      <td>71.000000</td>\n",
       "      <td>30.000000</td>\n",
       "      <td>2.000000</td>\n",
       "      <td>76.000000</td>\n",
       "    </tr>\n",
       "    <tr>\n",
       "      <th>max</th>\n",
       "      <td>256469.000000</td>\n",
       "      <td>94.000000</td>\n",
       "      <td>43.000000</td>\n",
       "      <td>371.000000</td>\n",
       "      <td>95.000000</td>\n",
       "    </tr>\n",
       "  </tbody>\n",
       "</table>\n",
       "</div>"
      ],
      "text/plain": [
       "           player_id       overall           age          hits     potential\n",
       "count   17981.000000  17981.000000  17981.000000  17981.000000  17981.000000\n",
       "mean   220912.660531     67.274345     26.311440      2.689450     71.738057\n",
       "std     27738.072671      5.924392      4.556077     10.846286      5.961968\n",
       "min        41.000000     56.000000     17.000000      0.000000     57.000000\n",
       "25%    204881.000000     63.000000     23.000000      0.000000     67.000000\n",
       "50%    226753.000000     67.000000     26.000000      0.000000     71.000000\n",
       "75%    241587.000000     71.000000     30.000000      2.000000     76.000000\n",
       "max    256469.000000     94.000000     43.000000    371.000000     95.000000"
      ]
     },
     "execution_count": 950,
     "metadata": {},
     "output_type": "execute_result"
    }
   ],
   "source": [
    "df.describe()"
   ]
  },
  {
   "cell_type": "markdown",
   "metadata": {
    "id": "rUHzlts3t5aV"
   },
   "source": [
    "#### c) Visualización de la cantidad de filas y columnas"
   ]
  },
  {
   "cell_type": "code",
   "execution_count": 951,
   "metadata": {
    "colab": {
     "base_uri": "https://localhost:8080/"
    },
    "executionInfo": {
     "elapsed": 38,
     "status": "ok",
     "timestamp": 1748833399078,
     "user": {
      "displayName": "Leandro Sandoval",
      "userId": "13944790235446664081"
     },
     "user_tz": 180
    },
    "id": "SquSoXdlt4wk",
    "outputId": "2c8a59b4-7e65-4cfc-ed67-548a3c5243f1"
   },
   "outputs": [
    {
     "data": {
      "text/plain": [
       "(17981, 9)"
      ]
     },
     "execution_count": 951,
     "metadata": {},
     "output_type": "execute_result"
    }
   ],
   "source": [
    "df.shape"
   ]
  },
  {
   "cell_type": "markdown",
   "metadata": {
    "id": "ZHkL8D6ouRy_"
   },
   "source": [
    "El dataset cuenta con:\n",
    "*   17.981 registros (Cantidad de jugadores de futbol)\n",
    "*   9 columnas con informacion descriptiva de cada uno de los jugadores\n",
    "\n"
   ]
  },
  {
   "cell_type": "markdown",
   "metadata": {
    "id": "yyDa1fcqukCc"
   },
   "source": [
    "#### d) Nombre de las columnas"
   ]
  },
  {
   "cell_type": "code",
   "execution_count": 952,
   "metadata": {
    "colab": {
     "base_uri": "https://localhost:8080/"
    },
    "executionInfo": {
     "elapsed": 16,
     "status": "ok",
     "timestamp": 1748833399080,
     "user": {
      "displayName": "Leandro Sandoval",
      "userId": "13944790235446664081"
     },
     "user_tz": 180
    },
    "id": "ie-SX99hun76",
    "outputId": "e4978dc6-afec-48ee-dff3-e8a74f4b9bc1"
   },
   "outputs": [
    {
     "data": {
      "text/plain": [
       "Index(['player_id', 'name', 'nationality', 'position', 'overall', 'age',\n",
       "       'hits', 'potential', 'team'],\n",
       "      dtype='object')"
      ]
     },
     "execution_count": 952,
     "metadata": {},
     "output_type": "execute_result"
    }
   ],
   "source": [
    "df.columns"
   ]
  },
  {
   "cell_type": "markdown",
   "metadata": {
    "id": "1hOSTOV3u9hy"
   },
   "source": [
    "La informacion que se posee del jugador es la siguiente:\n",
    "\n",
    "\n",
    "* Id del Jugador\n",
    "* Nombre\n",
    "* Nacionalidad\n",
    "* Posición\n",
    "* Overall (Valoración global)\n",
    "* Edad\n",
    "* Hits (Cantidad de veces que ha sido buscado / consultado)\n",
    "* Potential (Potencial futuro)\n",
    "* Equipo\n",
    "\n"
   ]
  },
  {
   "cell_type": "markdown",
   "metadata": {
    "id": "Q3rcoH3Hvude"
   },
   "source": [
    "#### e) Tipos de datos"
   ]
  },
  {
   "cell_type": "code",
   "execution_count": 953,
   "metadata": {
    "colab": {
     "base_uri": "https://localhost:8080/",
     "height": 366
    },
    "executionInfo": {
     "elapsed": 10,
     "status": "ok",
     "timestamp": 1748833399081,
     "user": {
      "displayName": "Leandro Sandoval",
      "userId": "13944790235446664081"
     },
     "user_tz": 180
    },
    "id": "oOJ2CLUrvyyB",
    "outputId": "aeda5c19-f8a5-4f8d-ab1c-5b39448abd16"
   },
   "outputs": [
    {
     "data": {
      "text/plain": [
       "player_id       int64\n",
       "name           object\n",
       "nationality    object\n",
       "position       object\n",
       "overall         int64\n",
       "age             int64\n",
       "hits            int64\n",
       "potential       int64\n",
       "team           object\n",
       "dtype: object"
      ]
     },
     "execution_count": 953,
     "metadata": {},
     "output_type": "execute_result"
    }
   ],
   "source": [
    "df.dtypes"
   ]
  },
  {
   "cell_type": "markdown",
   "metadata": {
    "id": "XmnCu36fv28U"
   },
   "source": [
    "Vemos que las columnas `player_id`, `overall`, `age`, `hits` y `potential` son variables numericas.\n",
    "\n",
    "Las columnas `name`, `nationality`, `position` y `team` son de tipo de dato objeto.\n",
    "\n",
    "**A futuro, habra que realizar un encoding para mapear los valores de estas variables a valores numericos para poder utilizar algunos modelos (O tomar alguna otra decision).**"
   ]
  },
  {
   "cell_type": "markdown",
   "metadata": {
    "id": "KOtSaujJlVsg"
   },
   "source": [
    "#### f) Limpieza inicial de datos"
   ]
  },
  {
   "cell_type": "markdown",
   "metadata": {
    "id": "fQ_v3s1cBc7_"
   },
   "source": [
    "Como vemos, las columnas `player_id` y `name` no son del todo utiles para el analisis de datos ya que son valores unicos (o muy pocos para el caso de nombre).\n",
    "\n",
    "Por otro lado, la columna  `team` (que representa el club en el que se encontraba actualmente a la fecha que se creo este dataset) no tiene mucho sentido ya que seran mas o menos 22 jugadores (entre titulares y suplentes por cada equipo).\n",
    "\n",
    "Un caso posible por que el nos convendria quedarnos con esta columna es que determinemos de que Nacionalidad hay mas jugadores en cierto club, pero como no es objeto de estudio, se tomo la decision de eliminarla.\n",
    "\n",
    "Es por esto que decidimos eliminarlas de nuestro set de datos y asi evitamos \"fugas de datos\" o ruido innecesario."
   ]
  },
  {
   "cell_type": "code",
   "execution_count": 954,
   "metadata": {
    "id": "g0y-unb8Cyvb"
   },
   "outputs": [],
   "source": [
    "df = df.drop(['player_id', 'name', 'team'], axis=1)"
   ]
  },
  {
   "cell_type": "markdown",
   "metadata": {
    "id": "mVeR8W-2GH0E"
   },
   "source": [
    "#### g) Tratamiento de variables categoricas"
   ]
  },
  {
   "cell_type": "markdown",
   "metadata": {
    "id": "ULiCQx7xGObb"
   },
   "source": [
    "Como vimos en el item e) las columnas `name` **(ya eliminada)**, `nationality`, `position` y `team` **(ya eliminada)** son de tipo de dato objeto."
   ]
  },
  {
   "cell_type": "markdown",
   "metadata": {
    "id": "01G5zFAVGuEy"
   },
   "source": [
    "##### Tratamiento de la variable `position`"
   ]
  },
  {
   "cell_type": "markdown",
   "metadata": {
    "id": "hDd01E-eG9Pz"
   },
   "source": [
    "Determinamos todas las posiciones de los jugadores que se encuentran en nuestro DataFrame"
   ]
  },
  {
   "cell_type": "code",
   "execution_count": 955,
   "metadata": {
    "colab": {
     "base_uri": "https://localhost:8080/"
    },
    "executionInfo": {
     "elapsed": 38,
     "status": "ok",
     "timestamp": 1748833399121,
     "user": {
      "displayName": "Leandro Sandoval",
      "userId": "13944790235446664081"
     },
     "user_tz": 180
    },
    "id": "JNLdEz-wG1XU",
    "outputId": "8b17ab42-33d0-40c9-8bd5-e21944c819d9"
   },
   "outputs": [
    {
     "name": "stdout",
     "output_type": "stream",
     "text": [
      "Posiciones únicas en el dataset: ['ST' 'CF' 'RW' 'LW' 'CAM' 'CB' 'GK' 'CM' 'CDM' 'LM' 'RB' 'RM' 'LB' 'LWB'\n",
      " 'RWB']\n"
     ]
    }
   ],
   "source": [
    "pos_split = df['position'].str.split('|')\n",
    "todas_pos = pos_split.explode().unique()\n",
    "print(\"Posiciones únicas en el dataset:\", todas_pos)"
   ]
  },
  {
   "cell_type": "markdown",
   "metadata": {
    "id": "LkwAWk_aH70p"
   },
   "source": [
    "Creamos las columnas binarias (multi-hot) de forma manual. Esto se realiza ya que en un registro de nuestro dataset, la posicion del jugador se encontraba de la forma ST|CF|RW y es por esto que con tecnimas como dummies no era posible su utilización.\n",
    "\n",
    "Por lo tanto, creamos una columna para cada posicion, si ese jugador aparece en dicha posicion, se le asignara un uno (1), caso contrario, un cero (0)"
   ]
  },
  {
   "cell_type": "code",
   "execution_count": 956,
   "metadata": {
    "id": "CyXeTjwKHga4"
   },
   "outputs": [],
   "source": [
    "for pos in todas_pos:\n",
    "    df[f'pos_{pos}'] = df['position'].apply(lambda s: int(pos in s.split('|')))"
   ]
  },
  {
   "cell_type": "markdown",
   "metadata": {
    "id": "NelYbjd3Ir8x"
   },
   "source": [
    "Y eliminamos la columna original"
   ]
  },
  {
   "cell_type": "code",
   "execution_count": 957,
   "metadata": {
    "id": "upxwB68fIu0K"
   },
   "outputs": [],
   "source": [
    "df = df.drop(['position'], axis=1)"
   ]
  },
  {
   "cell_type": "markdown",
   "metadata": {
    "id": "HONYhPLqlVsj"
   },
   "source": [
    "##### Tratamiento de la variable `nationality`"
   ]
  },
  {
   "cell_type": "markdown",
   "metadata": {
    "id": "e7jzbURplVsn"
   },
   "source": [
    "Este tratamiento se realizara en la seccion **3 - Datos Faltantes**, no se realiza aca ya que es necesario su analisis grafico en la seccion **2 - Visualizacion de Datos** para determinar una decisión."
   ]
  },
  {
   "cell_type": "markdown",
   "metadata": {
    "id": "HegalsRalVsn"
   },
   "source": [
    "#### Resultado parcial"
   ]
  },
  {
   "cell_type": "markdown",
   "metadata": {
    "id": "A_fK67XBIesE"
   },
   "source": [
    "Para finalizar, mostramos como quedo nuestro dataset hasta ahora"
   ]
  },
  {
   "cell_type": "code",
   "execution_count": 958,
   "metadata": {
    "colab": {
     "base_uri": "https://localhost:8080/",
     "height": 424
    },
    "executionInfo": {
     "elapsed": 65,
     "status": "ok",
     "timestamp": 1748833399384,
     "user": {
      "displayName": "Leandro Sandoval",
      "userId": "13944790235446664081"
     },
     "user_tz": 180
    },
    "id": "x981uT7UImcM",
    "outputId": "237943bd-4c96-4b5b-d60a-a8470a3cbda4"
   },
   "outputs": [
    {
     "data": {
      "text/html": [
       "<div>\n",
       "<style scoped>\n",
       "    .dataframe tbody tr th:only-of-type {\n",
       "        vertical-align: middle;\n",
       "    }\n",
       "\n",
       "    .dataframe tbody tr th {\n",
       "        vertical-align: top;\n",
       "    }\n",
       "\n",
       "    .dataframe thead th {\n",
       "        text-align: right;\n",
       "    }\n",
       "</style>\n",
       "<table border=\"1\" class=\"dataframe\">\n",
       "  <thead>\n",
       "    <tr style=\"text-align: right;\">\n",
       "      <th></th>\n",
       "      <th>nationality</th>\n",
       "      <th>overall</th>\n",
       "      <th>age</th>\n",
       "      <th>hits</th>\n",
       "      <th>potential</th>\n",
       "      <th>pos_ST</th>\n",
       "      <th>pos_CF</th>\n",
       "      <th>pos_RW</th>\n",
       "      <th>pos_LW</th>\n",
       "      <th>pos_CAM</th>\n",
       "      <th>pos_CB</th>\n",
       "      <th>pos_GK</th>\n",
       "      <th>pos_CM</th>\n",
       "      <th>pos_CDM</th>\n",
       "      <th>pos_LM</th>\n",
       "      <th>pos_RB</th>\n",
       "      <th>pos_RM</th>\n",
       "      <th>pos_LB</th>\n",
       "      <th>pos_LWB</th>\n",
       "      <th>pos_RWB</th>\n",
       "    </tr>\n",
       "  </thead>\n",
       "  <tbody>\n",
       "    <tr>\n",
       "      <th>0</th>\n",
       "      <td>Argentina</td>\n",
       "      <td>94</td>\n",
       "      <td>33</td>\n",
       "      <td>299</td>\n",
       "      <td>94</td>\n",
       "      <td>1</td>\n",
       "      <td>1</td>\n",
       "      <td>1</td>\n",
       "      <td>0</td>\n",
       "      <td>0</td>\n",
       "      <td>0</td>\n",
       "      <td>0</td>\n",
       "      <td>0</td>\n",
       "      <td>0</td>\n",
       "      <td>0</td>\n",
       "      <td>0</td>\n",
       "      <td>0</td>\n",
       "      <td>0</td>\n",
       "      <td>0</td>\n",
       "      <td>0</td>\n",
       "    </tr>\n",
       "    <tr>\n",
       "      <th>1</th>\n",
       "      <td>Portugal</td>\n",
       "      <td>93</td>\n",
       "      <td>35</td>\n",
       "      <td>276</td>\n",
       "      <td>93</td>\n",
       "      <td>1</td>\n",
       "      <td>0</td>\n",
       "      <td>0</td>\n",
       "      <td>1</td>\n",
       "      <td>0</td>\n",
       "      <td>0</td>\n",
       "      <td>0</td>\n",
       "      <td>0</td>\n",
       "      <td>0</td>\n",
       "      <td>0</td>\n",
       "      <td>0</td>\n",
       "      <td>0</td>\n",
       "      <td>0</td>\n",
       "      <td>0</td>\n",
       "      <td>0</td>\n",
       "    </tr>\n",
       "    <tr>\n",
       "      <th>2</th>\n",
       "      <td>Brazil</td>\n",
       "      <td>92</td>\n",
       "      <td>28</td>\n",
       "      <td>186</td>\n",
       "      <td>92</td>\n",
       "      <td>0</td>\n",
       "      <td>0</td>\n",
       "      <td>0</td>\n",
       "      <td>1</td>\n",
       "      <td>1</td>\n",
       "      <td>0</td>\n",
       "      <td>0</td>\n",
       "      <td>0</td>\n",
       "      <td>0</td>\n",
       "      <td>0</td>\n",
       "      <td>0</td>\n",
       "      <td>0</td>\n",
       "      <td>0</td>\n",
       "      <td>0</td>\n",
       "      <td>0</td>\n",
       "    </tr>\n",
       "    <tr>\n",
       "      <th>3</th>\n",
       "      <td>Netherlands</td>\n",
       "      <td>91</td>\n",
       "      <td>29</td>\n",
       "      <td>127</td>\n",
       "      <td>92</td>\n",
       "      <td>0</td>\n",
       "      <td>0</td>\n",
       "      <td>0</td>\n",
       "      <td>0</td>\n",
       "      <td>0</td>\n",
       "      <td>1</td>\n",
       "      <td>0</td>\n",
       "      <td>0</td>\n",
       "      <td>0</td>\n",
       "      <td>0</td>\n",
       "      <td>0</td>\n",
       "      <td>0</td>\n",
       "      <td>0</td>\n",
       "      <td>0</td>\n",
       "      <td>0</td>\n",
       "    </tr>\n",
       "    <tr>\n",
       "      <th>4</th>\n",
       "      <td>Slovenia</td>\n",
       "      <td>91</td>\n",
       "      <td>27</td>\n",
       "      <td>47</td>\n",
       "      <td>93</td>\n",
       "      <td>0</td>\n",
       "      <td>0</td>\n",
       "      <td>0</td>\n",
       "      <td>0</td>\n",
       "      <td>0</td>\n",
       "      <td>0</td>\n",
       "      <td>1</td>\n",
       "      <td>0</td>\n",
       "      <td>0</td>\n",
       "      <td>0</td>\n",
       "      <td>0</td>\n",
       "      <td>0</td>\n",
       "      <td>0</td>\n",
       "      <td>0</td>\n",
       "      <td>0</td>\n",
       "    </tr>\n",
       "    <tr>\n",
       "      <th>...</th>\n",
       "      <td>...</td>\n",
       "      <td>...</td>\n",
       "      <td>...</td>\n",
       "      <td>...</td>\n",
       "      <td>...</td>\n",
       "      <td>...</td>\n",
       "      <td>...</td>\n",
       "      <td>...</td>\n",
       "      <td>...</td>\n",
       "      <td>...</td>\n",
       "      <td>...</td>\n",
       "      <td>...</td>\n",
       "      <td>...</td>\n",
       "      <td>...</td>\n",
       "      <td>...</td>\n",
       "      <td>...</td>\n",
       "      <td>...</td>\n",
       "      <td>...</td>\n",
       "      <td>...</td>\n",
       "      <td>...</td>\n",
       "    </tr>\n",
       "    <tr>\n",
       "      <th>17976</th>\n",
       "      <td>Ecuador</td>\n",
       "      <td>56</td>\n",
       "      <td>21</td>\n",
       "      <td>0</td>\n",
       "      <td>64</td>\n",
       "      <td>1</td>\n",
       "      <td>0</td>\n",
       "      <td>0</td>\n",
       "      <td>0</td>\n",
       "      <td>0</td>\n",
       "      <td>0</td>\n",
       "      <td>0</td>\n",
       "      <td>0</td>\n",
       "      <td>0</td>\n",
       "      <td>0</td>\n",
       "      <td>0</td>\n",
       "      <td>0</td>\n",
       "      <td>0</td>\n",
       "      <td>0</td>\n",
       "      <td>0</td>\n",
       "    </tr>\n",
       "    <tr>\n",
       "      <th>17977</th>\n",
       "      <td>Ecuador</td>\n",
       "      <td>56</td>\n",
       "      <td>23</td>\n",
       "      <td>0</td>\n",
       "      <td>64</td>\n",
       "      <td>0</td>\n",
       "      <td>0</td>\n",
       "      <td>0</td>\n",
       "      <td>0</td>\n",
       "      <td>0</td>\n",
       "      <td>0</td>\n",
       "      <td>0</td>\n",
       "      <td>1</td>\n",
       "      <td>0</td>\n",
       "      <td>0</td>\n",
       "      <td>0</td>\n",
       "      <td>0</td>\n",
       "      <td>0</td>\n",
       "      <td>0</td>\n",
       "      <td>0</td>\n",
       "    </tr>\n",
       "    <tr>\n",
       "      <th>17978</th>\n",
       "      <td>Venezuela</td>\n",
       "      <td>56</td>\n",
       "      <td>18</td>\n",
       "      <td>1</td>\n",
       "      <td>68</td>\n",
       "      <td>1</td>\n",
       "      <td>0</td>\n",
       "      <td>0</td>\n",
       "      <td>0</td>\n",
       "      <td>0</td>\n",
       "      <td>0</td>\n",
       "      <td>0</td>\n",
       "      <td>0</td>\n",
       "      <td>0</td>\n",
       "      <td>0</td>\n",
       "      <td>0</td>\n",
       "      <td>0</td>\n",
       "      <td>0</td>\n",
       "      <td>0</td>\n",
       "      <td>0</td>\n",
       "    </tr>\n",
       "    <tr>\n",
       "      <th>17979</th>\n",
       "      <td>Venezuela</td>\n",
       "      <td>56</td>\n",
       "      <td>22</td>\n",
       "      <td>0</td>\n",
       "      <td>62</td>\n",
       "      <td>0</td>\n",
       "      <td>0</td>\n",
       "      <td>1</td>\n",
       "      <td>0</td>\n",
       "      <td>0</td>\n",
       "      <td>0</td>\n",
       "      <td>0</td>\n",
       "      <td>0</td>\n",
       "      <td>0</td>\n",
       "      <td>0</td>\n",
       "      <td>0</td>\n",
       "      <td>0</td>\n",
       "      <td>0</td>\n",
       "      <td>0</td>\n",
       "      <td>0</td>\n",
       "    </tr>\n",
       "    <tr>\n",
       "      <th>17980</th>\n",
       "      <td>Venezuela</td>\n",
       "      <td>56</td>\n",
       "      <td>18</td>\n",
       "      <td>0</td>\n",
       "      <td>69</td>\n",
       "      <td>0</td>\n",
       "      <td>0</td>\n",
       "      <td>0</td>\n",
       "      <td>0</td>\n",
       "      <td>0</td>\n",
       "      <td>0</td>\n",
       "      <td>0</td>\n",
       "      <td>1</td>\n",
       "      <td>0</td>\n",
       "      <td>0</td>\n",
       "      <td>0</td>\n",
       "      <td>0</td>\n",
       "      <td>0</td>\n",
       "      <td>0</td>\n",
       "      <td>0</td>\n",
       "    </tr>\n",
       "  </tbody>\n",
       "</table>\n",
       "<p>17981 rows × 20 columns</p>\n",
       "</div>"
      ],
      "text/plain": [
       "       nationality  overall  age  hits  potential  pos_ST  pos_CF  pos_RW  \\\n",
       "0        Argentina       94   33   299         94       1       1       1   \n",
       "1         Portugal       93   35   276         93       1       0       0   \n",
       "2           Brazil       92   28   186         92       0       0       0   \n",
       "3      Netherlands       91   29   127         92       0       0       0   \n",
       "4         Slovenia       91   27    47         93       0       0       0   \n",
       "...            ...      ...  ...   ...        ...     ...     ...     ...   \n",
       "17976      Ecuador       56   21     0         64       1       0       0   \n",
       "17977      Ecuador       56   23     0         64       0       0       0   \n",
       "17978    Venezuela       56   18     1         68       1       0       0   \n",
       "17979    Venezuela       56   22     0         62       0       0       1   \n",
       "17980    Venezuela       56   18     0         69       0       0       0   \n",
       "\n",
       "       pos_LW  pos_CAM  pos_CB  pos_GK  pos_CM  pos_CDM  pos_LM  pos_RB  \\\n",
       "0           0        0       0       0       0        0       0       0   \n",
       "1           1        0       0       0       0        0       0       0   \n",
       "2           1        1       0       0       0        0       0       0   \n",
       "3           0        0       1       0       0        0       0       0   \n",
       "4           0        0       0       1       0        0       0       0   \n",
       "...       ...      ...     ...     ...     ...      ...     ...     ...   \n",
       "17976       0        0       0       0       0        0       0       0   \n",
       "17977       0        0       0       0       1        0       0       0   \n",
       "17978       0        0       0       0       0        0       0       0   \n",
       "17979       0        0       0       0       0        0       0       0   \n",
       "17980       0        0       0       0       1        0       0       0   \n",
       "\n",
       "       pos_RM  pos_LB  pos_LWB  pos_RWB  \n",
       "0           0       0        0        0  \n",
       "1           0       0        0        0  \n",
       "2           0       0        0        0  \n",
       "3           0       0        0        0  \n",
       "4           0       0        0        0  \n",
       "...       ...     ...      ...      ...  \n",
       "17976       0       0        0        0  \n",
       "17977       0       0        0        0  \n",
       "17978       0       0        0        0  \n",
       "17979       0       0        0        0  \n",
       "17980       0       0        0        0  \n",
       "\n",
       "[17981 rows x 20 columns]"
      ]
     },
     "execution_count": 958,
     "metadata": {},
     "output_type": "execute_result"
    }
   ],
   "source": [
    "df"
   ]
  },
  {
   "cell_type": "markdown",
   "metadata": {
    "id": "kPLhqP4elVso"
   },
   "source": [
    "En cuanto a los **valores atipicos**, **duplicados** o **verificacion de nulos** se llevaran a cabo en las siguientes etapas."
   ]
  },
  {
   "cell_type": "markdown",
   "metadata": {
    "id": "iD4pdajsrTWl"
   },
   "source": [
    "### 2 - Visualización de Datos"
   ]
  },
  {
   "cell_type": "markdown",
   "metadata": {
    "id": "iiaCPFs9rXXC"
   },
   "source": [
    "* Seleccionar las variables relevantes para visualizar.\n",
    "* Utilizar gráficos adecuados para representar diferentes tipos de variables, como histogramas, diagramas de dispersión, diagramas de caja, etc.\n",
    "* Explorar la relación entre diferentes variables mediante gráficos de dispersión o gráficos de correlación.\n",
    "* Realizar análisis visual para identificar patrones o tendencias en los datos.\n"
   ]
  },
  {
   "cell_type": "markdown",
   "metadata": {
    "id": "AXnojCVjx1a9"
   },
   "source": [
    "#### a) Análisis columna **`nationality`**"
   ]
  },
  {
   "cell_type": "markdown",
   "metadata": {
    "id": "sQ8RfCXcyE7C"
   },
   "source": [
    "##### Cantidad de frecuencias de nacionalidades"
   ]
  },
  {
   "cell_type": "markdown",
   "metadata": {
    "id": "w-U1m9GryR0V"
   },
   "source": [
    "Vemos la cantidad de apariciones de cada pais por Nacionalidad"
   ]
  },
  {
   "cell_type": "code",
   "execution_count": 959,
   "metadata": {
    "colab": {
     "base_uri": "https://localhost:8080/"
    },
    "executionInfo": {
     "elapsed": 8,
     "status": "ok",
     "timestamp": 1748833399390,
     "user": {
      "displayName": "Leandro Sandoval",
      "userId": "13944790235446664081"
     },
     "user_tz": 180
    },
    "id": "M0oej9W-rbX3",
    "outputId": "5c5f4e9d-5d67-4a86-bfe0-270d1927c018"
   },
   "outputs": [
    {
     "name": "stdout",
     "output_type": "stream",
     "text": [
      "nationality\n",
      "England      1496\n",
      "Germany      1138\n",
      "Spain        1055\n",
      "Argentina     970\n",
      "France        948\n",
      "             ... \n",
      "Ethiopia        1\n",
      "Gibraltar       1\n",
      "Macau           1\n",
      "Barbados        1\n",
      "Nicaragua       1\n",
      "Name: count, Length: 162, dtype: int64\n"
     ]
    }
   ],
   "source": [
    "COLUMNA_NACIONALIDAD = 'nationality'\n",
    "frecuencias_nacionalidad = df[COLUMNA_NACIONALIDAD].value_counts()\n",
    "print(frecuencias_nacionalidad)"
   ]
  },
  {
   "cell_type": "markdown",
   "metadata": {
    "id": "mP0CpSG7yiL4"
   },
   "source": [
    "##### Countplot general"
   ]
  },
  {
   "cell_type": "markdown",
   "metadata": {
    "id": "aqezw0AAyk_8"
   },
   "source": [
    "Con este grafico de barras podemos ver cuantos jugadores se encuentran en diferentes paises.\n",
    "\n",
    "Como la cantidad de paises son demasiadas para este grafico, solo listaremos los 10 paises mas relevantes."
   ]
  },
  {
   "cell_type": "code",
   "execution_count": 960,
   "metadata": {
    "colab": {
     "base_uri": "https://localhost:8080/",
     "height": 419
    },
    "executionInfo": {
     "elapsed": 305,
     "status": "ok",
     "timestamp": 1748833399697,
     "user": {
      "displayName": "Leandro Sandoval",
      "userId": "13944790235446664081"
     },
     "user_tz": 180
    },
    "id": "esgFb8XLypvV",
    "outputId": "29adab36-3cad-4bf3-c265-a0d6b3c9d0a9"
   },
   "outputs": [
    {
     "data": {
      "image/png": "[encoded data removed]",
      "text/plain": [
       "<Figure size 1000x400 with 1 Axes>"
      ]
     },
     "metadata": {},
     "output_type": "display_data"
    }
   ],
   "source": [
    "top10_nacionalidades = df[COLUMNA_NACIONALIDAD].value_counts().nlargest(10).index.tolist()\n",
    "df_top10_nacionalidades = df[df[COLUMNA_NACIONALIDAD].isin(top10_nacionalidades)]\n",
    "\n",
    "plt.figure(figsize=(10,4))\n",
    "sns.countplot(\n",
    "    x=COLUMNA_NACIONALIDAD,\n",
    "    hue=COLUMNA_NACIONALIDAD,\n",
    "    data=df_top10_nacionalidades,\n",
    "    palette='pastel',\n",
    "    order=top10_nacionalidades\n",
    ")\n",
    "\n",
    "plt.title('Top 10 Nacionalidades más Frecuentes')\n",
    "plt.xlabel('País')\n",
    "plt.ylabel('Cantidad de Jugadores')\n",
    "plt.grid(axis='y', linestyle='--', alpha=0.5)\n",
    "plt.show()"
   ]
  },
  {
   "cell_type": "markdown",
   "metadata": {
    "id": "D8PRz1uZ1WSw"
   },
   "source": [
    "#### b) Análisis columna **`age`**"
   ]
  },
  {
   "cell_type": "markdown",
   "metadata": {
    "id": "zmddbnUc1fGk"
   },
   "source": [
    "##### Cantidad de frecuencias de nacionalidades"
   ]
  },
  {
   "cell_type": "code",
   "execution_count": 961,
   "metadata": {
    "colab": {
     "base_uri": "https://localhost:8080/"
    },
    "executionInfo": {
     "elapsed": 7,
     "status": "ok",
     "timestamp": 1748833399705,
     "user": {
      "displayName": "Leandro Sandoval",
      "userId": "13944790235446664081"
     },
     "user_tz": 180
    },
    "id": "gEfhwxct1hoK",
    "outputId": "e43d1d76-8b39-40be-ce03-1e881a0cdcdb"
   },
   "outputs": [
    {
     "name": "stdout",
     "output_type": "stream",
     "text": [
      "age\n",
      "24    1436\n",
      "23    1376\n",
      "28    1360\n",
      "26    1330\n",
      "27    1303\n",
      "25    1294\n",
      "22    1289\n",
      "21    1172\n",
      "29    1146\n",
      "30    1031\n",
      "20     974\n",
      "31     880\n",
      "32     764\n",
      "33     601\n",
      "19     515\n",
      "34     453\n",
      "35     298\n",
      "18     223\n",
      "36     214\n",
      "37     128\n",
      "38      75\n",
      "17      45\n",
      "39      41\n",
      "40      18\n",
      "41       9\n",
      "42       4\n",
      "43       2\n",
      "Name: count, dtype: int64\n"
     ]
    }
   ],
   "source": [
    "COLUMNA_EDAD = 'age'\n",
    "frecuencias_edades = df[COLUMNA_EDAD].value_counts()\n",
    "print(frecuencias_edades)"
   ]
  },
  {
   "cell_type": "markdown",
   "metadata": {
    "id": "rtdesIU215dU"
   },
   "source": [
    "##### Countplot general"
   ]
  },
  {
   "cell_type": "markdown",
   "metadata": {
    "id": "t-3RrWH219JL"
   },
   "source": [
    "Con este gráfico de barras podemos visualizar que edad seria en la que un jugador profesional deberia tener.\n",
    "\n",
    "Como la cantidad de edad son demasiadas para este grafico, solo listaremos las 10 edades mas relevantes."
   ]
  },
  {
   "cell_type": "code",
   "execution_count": 962,
   "metadata": {
    "colab": {
     "base_uri": "https://localhost:8080/",
     "height": 419
    },
    "executionInfo": {
     "elapsed": 349,
     "status": "ok",
     "timestamp": 1748833400056,
     "user": {
      "displayName": "Leandro Sandoval",
      "userId": "13944790235446664081"
     },
     "user_tz": 180
    },
    "id": "voFI4asz2YzL",
    "outputId": "65e16b30-d0b2-4ee5-c6a6-f0ccf91b1db3"
   },
   "outputs": [
    {
     "data": {
      "image/png": "[encoded data removed]",
      "text/plain": [
       "<Figure size 600x400 with 1 Axes>"
      ]
     },
     "metadata": {},
     "output_type": "display_data"
    }
   ],
   "source": [
    "top10_edades = df[COLUMNA_EDAD].value_counts().nlargest(10).index.tolist()\n",
    "df_top10_edades = df[df[COLUMNA_EDAD].isin(top10_edades)]\n",
    "\n",
    "plt.figure(figsize=(6,4))\n",
    "sns.countplot(\n",
    "    x=COLUMNA_EDAD,\n",
    "    hue=COLUMNA_EDAD,\n",
    "    data=df_top10_edades,\n",
    "    palette='pastel',\n",
    "    order=top10_edades\n",
    ")\n",
    "\n",
    "plt.title('Top 10 Edades más Frecuentes')\n",
    "plt.xlabel('Edad')\n",
    "plt.ylabel('Cantidad de Jugadores')\n",
    "plt.grid(axis='y', linestyle='--', alpha=0.5)\n",
    "plt.show()"
   ]
  },
  {
   "cell_type": "markdown",
   "metadata": {
    "id": "hTeCQVST5hgx"
   },
   "source": [
    "##### Boxplot general de la variable predictora Edad"
   ]
  },
  {
   "cell_type": "markdown",
   "metadata": {
    "id": "bJ8_1sHb583n"
   },
   "source": [
    "Mediante este grafico podemos detectar los posibles outliers."
   ]
  },
  {
   "cell_type": "code",
   "execution_count": 963,
   "metadata": {
    "colab": {
     "base_uri": "https://localhost:8080/",
     "height": 419
    },
    "executionInfo": {
     "elapsed": 337,
     "status": "ok",
     "timestamp": 1748833400386,
     "user": {
      "displayName": "Leandro Sandoval",
      "userId": "13944790235446664081"
     },
     "user_tz": 180
    },
    "id": "9BJDIxm95pnx",
    "outputId": "bb1a93f9-7b0a-4c04-a8af-b260fd96854c"
   },
   "outputs": [
    {
     "data": {
      "image/png": "[encoded data removed]",
      "text/plain": [
       "<Figure size 600x400 with 1 Axes>"
      ]
     },
     "metadata": {},
     "output_type": "display_data"
    }
   ],
   "source": [
    "plt.figure(figsize=(6,4))\n",
    "sns.boxplot(x=df[COLUMNA_EDAD], color='lightgreen')\n",
    "plt.title('Boxplot de Edad')\n",
    "plt.xlabel('Edad')\n",
    "plt.show()"
   ]
  },
  {
   "cell_type": "code",
   "execution_count": 964,
   "metadata": {
    "colab": {
     "base_uri": "https://localhost:8080/"
    },
    "executionInfo": {
     "elapsed": 37,
     "status": "ok",
     "timestamp": 1748833400424,
     "user": {
      "displayName": "Leandro Sandoval",
      "userId": "13944790235446664081"
     },
     "user_tz": 180
    },
    "id": "QdZ6ISIn6ETi",
    "outputId": "3b12d609-f6bd-4b11-804a-2289b6df1b93"
   },
   "outputs": [
    {
     "name": "stdout",
     "output_type": "stream",
     "text": [
      "Cantidad de outliers en Edad: 15\n"
     ]
    }
   ],
   "source": [
    "Q1 = df[COLUMNA_EDAD].quantile(0.25)\n",
    "Q3 = df[COLUMNA_EDAD].quantile(0.75)\n",
    "IQR = Q3 - Q1\n",
    "limite_inferior = Q1 - 1.5 * IQR\n",
    "limite_superior = Q3 + 1.5 * IQR\n",
    "\n",
    "outliers = df[(df[COLUMNA_EDAD] < limite_inferior) | (df[COLUMNA_EDAD] > limite_superior)]\n",
    "\n",
    "print(f'Cantidad de outliers en Edad: {len(outliers)}')"
   ]
  },
  {
   "cell_type": "markdown",
   "metadata": {
    "id": "m_nzEgCv79wf"
   },
   "source": [
    "##### Histograma (KDE) de la distribucion completa de edad"
   ]
  },
  {
   "cell_type": "code",
   "execution_count": 965,
   "metadata": {
    "colab": {
     "base_uri": "https://localhost:8080/",
     "height": 419
    },
    "executionInfo": {
     "elapsed": 353,
     "status": "ok",
     "timestamp": 1748833400776,
     "user": {
      "displayName": "Leandro Sandoval",
      "userId": "13944790235446664081"
     },
     "user_tz": 180
    },
    "id": "4zpMONZB8HO-",
    "outputId": "fa42eb72-083d-4577-e781-e3c4ccbd2b0c"
   },
   "outputs": [
    {
     "data": {
      "image/png": "[encoded data removed]",
      "text/plain": [
       "<Figure size 600x400 with 1 Axes>"
      ]
     },
     "metadata": {},
     "output_type": "display_data"
    }
   ],
   "source": [
    "plt.figure(figsize=(6,4))\n",
    "sns.histplot(df[COLUMNA_EDAD], bins=20, kde=True, color='skyblue')\n",
    "plt.title('Histograma y KDE de Edad')\n",
    "plt.xlabel('Edad')\n",
    "plt.ylabel('Frecuencia')\n",
    "plt.grid(axis='y', linestyle='--', alpha=0.5)\n",
    "plt.show()"
   ]
  },
  {
   "cell_type": "markdown",
   "metadata": {
    "id": "cBKzACOI8ZdU"
   },
   "source": [
    "Con esto podremos ver de forma cuantitativa cuantos jugadores hay en cada rango de edad y ademas determinar si la variable es normal, sesgada a la derecha/izquierda o multimodal."
   ]
  },
  {
   "cell_type": "markdown",
   "metadata": {
    "id": "iI5l03pFlVsv"
   },
   "source": [
    "#### b) Análisis columna **`overall`**"
   ]
  },
  {
   "cell_type": "markdown",
   "metadata": {
    "id": "ED2QttXTlVsv"
   },
   "source": [
    "##### Cantidad de frecuencias de overall"
   ]
  },
  {
   "cell_type": "code",
   "execution_count": 966,
   "metadata": {
    "colab": {
     "base_uri": "https://localhost:8080/"
    },
    "executionInfo": {
     "elapsed": 7,
     "status": "ok",
     "timestamp": 1748833400800,
     "user": {
      "displayName": "Leandro Sandoval",
      "userId": "13944790235446664081"
     },
     "user_tz": 180
    },
    "id": "xIMz1NVllVsv",
    "outputId": "5d129494-3f5d-4aa3-c6e5-a41256f31422"
   },
   "outputs": [
    {
     "name": "stdout",
     "output_type": "stream",
     "text": [
      "overall\n",
      "66    1236\n",
      "65    1229\n",
      "67    1215\n",
      "64    1178\n",
      "68    1139\n",
      "63    1062\n",
      "69     972\n",
      "70     954\n",
      "62     905\n",
      "71     822\n",
      "72     820\n",
      "60     769\n",
      "61     743\n",
      "73     630\n",
      "74     589\n",
      "59     583\n",
      "58     512\n",
      "75     501\n",
      "57     469\n",
      "76     363\n",
      "77     288\n",
      "78     252\n",
      "79     180\n",
      "80     141\n",
      "81     100\n",
      "82      88\n",
      "83      67\n",
      "84      41\n",
      "85      34\n",
      "86      26\n",
      "87      20\n",
      "56      18\n",
      "88      13\n",
      "89       9\n",
      "90       5\n",
      "91       5\n",
      "93       1\n",
      "92       1\n",
      "94       1\n",
      "Name: count, dtype: int64\n"
     ]
    }
   ],
   "source": [
    "COLUMNA_OVERALL = 'overall'\n",
    "frecuencias_overall = df[COLUMNA_OVERALL].value_counts()\n",
    "print(frecuencias_overall)"
   ]
  },
  {
   "cell_type": "markdown",
   "metadata": {
    "id": "x1B2VNkVlVsw"
   },
   "source": [
    "##### Countplot general"
   ]
  },
  {
   "cell_type": "markdown",
   "metadata": {
    "id": "jWvK5dDVlVsw"
   },
   "source": [
    "Con este gráfico de barras podemos visualizar que overall tiene un jugador profesional.\n",
    "\n",
    "Como la cantidad de overalls son demasiadas para este grafico, solo listaremos los 10 overall mas relevantes."
   ]
  },
  {
   "cell_type": "code",
   "execution_count": 967,
   "metadata": {
    "colab": {
     "base_uri": "https://localhost:8080/",
     "height": 419
    },
    "executionInfo": {
     "elapsed": 472,
     "status": "ok",
     "timestamp": 1748833401273,
     "user": {
      "displayName": "Leandro Sandoval",
      "userId": "13944790235446664081"
     },
     "user_tz": 180
    },
    "id": "yygzyfSdlVsx",
    "outputId": "9369f610-ab16-4546-e1c4-64772c3348d5"
   },
   "outputs": [
    {
     "data": {
      "image/png": "[encoded data removed]",
      "text/plain": [
       "<Figure size 600x400 with 1 Axes>"
      ]
     },
     "metadata": {},
     "output_type": "display_data"
    }
   ],
   "source": [
    "top10_overall = df[COLUMNA_OVERALL].value_counts().nlargest(10).index.tolist()\n",
    "df_top10_overall = df[df[COLUMNA_OVERALL].isin(top10_overall)]\n",
    "\n",
    "plt.figure(figsize=(6,4))\n",
    "sns.countplot(\n",
    "    x=COLUMNA_OVERALL,\n",
    "    hue=COLUMNA_OVERALL,\n",
    "    data=df_top10_overall,\n",
    "    palette='pastel',\n",
    "    order=top10_overall\n",
    ")\n",
    "\n",
    "plt.title('Top 10 Overall más Frecuentes')\n",
    "plt.xlabel('Overall')\n",
    "plt.ylabel('Cantidad de Jugadores')\n",
    "plt.grid(axis='y', linestyle='--', alpha=0.5)\n",
    "plt.show()"
   ]
  },
  {
   "cell_type": "markdown",
   "metadata": {
    "id": "YUECBe-7lVsx"
   },
   "source": [
    "##### Boxplot general de la variable Overall"
   ]
  },
  {
   "cell_type": "markdown",
   "metadata": {
    "id": "PBAjrWHglVsy"
   },
   "source": [
    "Mediante este grafico podemos detectar los posibles outliers."
   ]
  },
  {
   "cell_type": "code",
   "execution_count": 968,
   "metadata": {
    "colab": {
     "base_uri": "https://localhost:8080/",
     "height": 419
    },
    "executionInfo": {
     "elapsed": 210,
     "status": "ok",
     "timestamp": 1748833401485,
     "user": {
      "displayName": "Leandro Sandoval",
      "userId": "13944790235446664081"
     },
     "user_tz": 180
    },
    "id": "NOCqvTH6lVsy",
    "outputId": "90e1d801-b19d-4fa5-9fa6-ba0bae501b8b"
   },
   "outputs": [
    {
     "data": {
      "image/png": "[encoded data removed]",
      "text/plain": [
       "<Figure size 600x400 with 1 Axes>"
      ]
     },
     "metadata": {},
     "output_type": "display_data"
    }
   ],
   "source": [
    "plt.figure(figsize=(6,4))\n",
    "sns.boxplot(x=df[COLUMNA_OVERALL], color='lightgreen')\n",
    "plt.title('Boxplot de Overall')\n",
    "plt.xlabel('Overall')\n",
    "plt.show()"
   ]
  },
  {
   "cell_type": "code",
   "execution_count": 969,
   "metadata": {
    "colab": {
     "base_uri": "https://localhost:8080/"
    },
    "executionInfo": {
     "elapsed": 42,
     "status": "ok",
     "timestamp": 1748833401524,
     "user": {
      "displayName": "Leandro Sandoval",
      "userId": "13944790235446664081"
     },
     "user_tz": 180
    },
    "id": "5Go6iM0VlVsz",
    "outputId": "40dfa91d-4456-49ba-b28a-ee424ffb90c5"
   },
   "outputs": [
    {
     "name": "stdout",
     "output_type": "stream",
     "text": [
      "Cantidad de outliers en Overall: 156\n"
     ]
    }
   ],
   "source": [
    "Q1 = df[COLUMNA_OVERALL].quantile(0.25)\n",
    "Q3 = df[COLUMNA_OVERALL].quantile(0.75)\n",
    "IQR = Q3 - Q1\n",
    "limite_inferior = Q1 - 1.5 * IQR\n",
    "limite_superior = Q3 + 1.5 * IQR\n",
    "\n",
    "outliers = df[(df[COLUMNA_OVERALL] < limite_inferior) | (df[COLUMNA_OVERALL] > limite_superior)]\n",
    "\n",
    "print(f'Cantidad de outliers en Overall: {len(outliers)}')"
   ]
  },
  {
   "cell_type": "markdown",
   "metadata": {
    "id": "0CyuId1SlVsz"
   },
   "source": [
    "##### Histograma (KDE) de la distribucion completa de overall"
   ]
  },
  {
   "cell_type": "code",
   "execution_count": 970,
   "metadata": {
    "colab": {
     "base_uri": "https://localhost:8080/",
     "height": 419
    },
    "executionInfo": {
     "elapsed": 738,
     "status": "ok",
     "timestamp": 1748833402270,
     "user": {
      "displayName": "Leandro Sandoval",
      "userId": "13944790235446664081"
     },
     "user_tz": 180
    },
    "id": "TRQJEJXmlVsz",
    "outputId": "3697ca21-bd99-4170-c577-eb19087d915f"
   },
   "outputs": [
    {
     "data": {
      "image/png": "[encoded data removed]",
      "text/plain": [
       "<Figure size 600x400 with 1 Axes>"
      ]
     },
     "metadata": {},
     "output_type": "display_data"
    }
   ],
   "source": [
    "plt.figure(figsize=(6,4))\n",
    "sns.histplot(df[COLUMNA_OVERALL], bins=20, kde=True, color='skyblue')\n",
    "plt.title('Histograma y KDE de Overall')\n",
    "plt.xlabel('Overall')\n",
    "plt.ylabel('Frecuencia')\n",
    "plt.grid(axis='y', linestyle='--', alpha=0.5)\n",
    "plt.show()"
   ]
  },
  {
   "cell_type": "markdown",
   "metadata": {
    "id": "Cvp4gayQlVs0"
   },
   "source": [
    "Con esto podremos ver de forma cuantitativa cuantos jugadores se encuentra en determinado overall y ademas determinar si la variable es normal, sesgada a la derecha/izquierda o multimodal."
   ]
  },
  {
   "cell_type": "markdown",
   "metadata": {
    "id": "OjPpCMwyAanx"
   },
   "source": [
    "##### Matriz de Correlación"
   ]
  },
  {
   "cell_type": "code",
   "execution_count": 971,
   "metadata": {
    "colab": {
     "base_uri": "https://localhost:8080/",
     "height": 912
    },
    "executionInfo": {
     "elapsed": 1387,
     "status": "ok",
     "timestamp": 1748833403660,
     "user": {
      "displayName": "Leandro Sandoval",
      "userId": "13944790235446664081"
     },
     "user_tz": 180
    },
    "id": "CFvbWNFAAeTG",
    "outputId": "fa805d39-945e-4f78-c5d2-9e39e75e43a9"
   },
   "outputs": [
    {
     "data": {
      "image/png": "[encoded data removed]",
      "text/plain": [
       "<Figure size 1500x1000 with 2 Axes>"
      ]
     },
     "metadata": {},
     "output_type": "display_data"
    }
   ],
   "source": [
    "numericas = df.select_dtypes(include='number').columns.tolist()\n",
    "\n",
    "corr = df[numericas].corr()\n",
    "\n",
    "plt.figure(figsize=(15,10))\n",
    "sns.heatmap(corr, annot=True, fmt='.2f', cmap='coolwarm', cbar=True)\n",
    "plt.title('Matriz de Correlación de Variables Numéricas')\n",
    "plt.show()"
   ]
  },
  {
   "cell_type": "markdown",
   "metadata": {
    "id": "Md4mqzCArbqK"
   },
   "source": [
    "### 3 - Datos faltantes y/o Valores Atípicos (Outliers)"
   ]
  },
  {
   "cell_type": "markdown",
   "metadata": {
    "id": "FcRcjjvYrlZd"
   },
   "source": [
    "*\tIdentificar y evaluar la cantidad de datos faltantes (y/o Valores Atípicos (Outliers)) en el conjunto de datos.\n",
    "*\tDeterminar la estrategia para manejar los datos faltantes, como el imputado de valores o la eliminación de filas o columnas con datos faltantes.\n",
    "*\tAplicar la estrategia elegida para completar o eliminar los datos faltantes.\n",
    "*\tValidar y verificar la integridad de los datos después del tratamiento de datos faltantes.\n"
   ]
  },
  {
   "cell_type": "markdown",
   "metadata": {
    "id": "GEfacj3_wbwm"
   },
   "source": [
    "#### a) Verificación de datos faltantes / valores nulos"
   ]
  },
  {
   "cell_type": "code",
   "execution_count": 972,
   "metadata": {
    "colab": {
     "base_uri": "https://localhost:8080/",
     "height": 711
    },
    "executionInfo": {
     "elapsed": 12,
     "status": "ok",
     "timestamp": 1748833403684,
     "user": {
      "displayName": "Leandro Sandoval",
      "userId": "13944790235446664081"
     },
     "user_tz": 180
    },
    "id": "AaBfgkQowitQ",
    "outputId": "94beb942-e1f3-4d4b-d6ef-1285b5f54c48"
   },
   "outputs": [
    {
     "data": {
      "text/plain": [
       "nationality    0.0\n",
       "overall        0.0\n",
       "age            0.0\n",
       "hits           0.0\n",
       "potential      0.0\n",
       "pos_ST         0.0\n",
       "pos_CF         0.0\n",
       "pos_RW         0.0\n",
       "pos_LW         0.0\n",
       "pos_CAM        0.0\n",
       "pos_CB         0.0\n",
       "pos_GK         0.0\n",
       "pos_CM         0.0\n",
       "pos_CDM        0.0\n",
       "pos_LM         0.0\n",
       "pos_RB         0.0\n",
       "pos_RM         0.0\n",
       "pos_LB         0.0\n",
       "pos_LWB        0.0\n",
       "pos_RWB        0.0\n",
       "dtype: float64"
      ]
     },
     "execution_count": 972,
     "metadata": {},
     "output_type": "execute_result"
    }
   ],
   "source": [
    "df.isna().sum()/df.shape[0]*100"
   ]
  },
  {
   "cell_type": "markdown",
   "metadata": {
    "id": "RsFr9DPCwqmp"
   },
   "source": [
    "Podemos observar que **ninguna de las variables tienen valores nulos**, por lo que no habra que realizar imputaciones de este tipo."
   ]
  },
  {
   "cell_type": "markdown",
   "metadata": {
    "id": "9Bsrf498xF7J"
   },
   "source": [
    "#### b) Verificación de valores duplicados"
   ]
  },
  {
   "cell_type": "code",
   "execution_count": 973,
   "metadata": {
    "colab": {
     "base_uri": "https://localhost:8080/"
    },
    "executionInfo": {
     "elapsed": 8,
     "status": "ok",
     "timestamp": 1748833403695,
     "user": {
      "displayName": "Leandro Sandoval",
      "userId": "13944790235446664081"
     },
     "user_tz": 180
    },
    "id": "ekdE_5X5xMD-",
    "outputId": "5f6f3693-d955-4267-991f-9c013bcb741c"
   },
   "outputs": [
    {
     "data": {
      "text/plain": [
       "np.int64(223)"
      ]
     },
     "execution_count": 973,
     "metadata": {},
     "output_type": "execute_result"
    }
   ],
   "source": [
    "df.duplicated().sum()"
   ]
  },
  {
   "cell_type": "markdown",
   "metadata": {
    "id": "dSB9wdWoxNdm"
   },
   "source": [
    "El dataset no cuenta con registros duplicados"
   ]
  },
  {
   "cell_type": "markdown",
   "metadata": {
    "id": "Mza29hdwBVkM"
   },
   "source": [
    "#### c) Eliminacion de filas o columnas"
   ]
  },
  {
   "cell_type": "markdown",
   "metadata": {
    "id": "uvIh-iiDlVs3"
   },
   "source": [
    "Para el caso de eliminacion de filas / columnas se realizo el Paso 1 - Limpieza de Datos"
   ]
  },
  {
   "cell_type": "markdown",
   "metadata": {
    "id": "SFja_mFOlVs3"
   },
   "source": [
    "##### Tratamiento de la columna **`nationality`**"
   ]
  },
  {
   "cell_type": "markdown",
   "metadata": {
    "id": "2WTt-PBglVs3"
   },
   "source": [
    "Como vimos en el grafico, solo vamos a quedarnos con las 10 nacionalidades con mas frecuencias del set de datos, para asi luego tratar esta variable categorica.\n",
    "\n",
    "A partir del onceavo país imputaremos como valor 'Otro' para reducir la cardinalidad al realizar el tratamiento."
   ]
  },
  {
   "cell_type": "code",
   "execution_count": 974,
   "metadata": {
    "colab": {
     "base_uri": "https://localhost:8080/"
    },
    "executionInfo": {
     "elapsed": 22,
     "status": "ok",
     "timestamp": 1748833403733,
     "user": {
      "displayName": "Leandro Sandoval",
      "userId": "13944790235446664081"
     },
     "user_tz": 180
    },
    "id": "17wMylcDlVs3",
    "outputId": "75489b8e-de30-4b61-ab29-5f22b2b93c00"
   },
   "outputs": [
    {
     "name": "stdout",
     "output_type": "stream",
     "text": [
      "nationality\n",
      "Otro           9416\n",
      "England        1496\n",
      "Germany        1138\n",
      "Spain          1055\n",
      "Argentina       970\n",
      "France          948\n",
      "Brazil          894\n",
      "Italy           637\n",
      "Colombia        561\n",
      "Japan           448\n",
      "Netherlands     418\n",
      "Name: count, dtype: int64\n"
     ]
    }
   ],
   "source": [
    "top10_nacionalidades = df[COLUMNA_NACIONALIDAD].value_counts().nlargest(10).index.tolist()\n",
    "\n",
    "df[COLUMNA_NACIONALIDAD] = df[COLUMNA_NACIONALIDAD].apply(lambda x: x if x in top10_nacionalidades else 'Otro')\n",
    "\n",
    "print(df[COLUMNA_NACIONALIDAD].value_counts())\n",
    "\n",
    "df = pd.get_dummies(df, columns=[COLUMNA_NACIONALIDAD], prefix='nac')"
   ]
  },
  {
   "cell_type": "markdown",
   "metadata": {
    "id": "3mBVrzZ3lVs3"
   },
   "source": [
    "#### d) Imputacion de valores outliers"
   ]
  },
  {
   "cell_type": "markdown",
   "metadata": {
    "id": "Q_pHGaBrlVs4"
   },
   "source": [
    "##### Tratamiento de la columna **`age`**"
   ]
  },
  {
   "cell_type": "markdown",
   "metadata": {
    "id": "QIJKbuBIlVs4"
   },
   "source": [
    "Para el caso de edades, vamos a imputar los valores atipicos por la media.\n",
    "\n",
    "* Calculamos nuevamente Q1, Q3 e IQR sobre la columna Edad.\n",
    "* Creamos un booleano que marque los “no outliers” (edad dentro del rango aceptable)\n",
    "* Y luego calculamos la media de Edad usando únicamente esos valores no atípicos\n",
    "* Para finalizar, reemplazamos todos los outliers (<limite_inferior o >limite_superior) por esa media."
   ]
  },
  {
   "cell_type": "code",
   "execution_count": 975,
   "metadata": {
    "id": "2xrjLBAGlVs4"
   },
   "outputs": [],
   "source": [
    "Q1 = df[COLUMNA_EDAD].quantile(0.25)\n",
    "Q3 = df[COLUMNA_EDAD].quantile(0.75)\n",
    "IQR = Q3 - Q1\n",
    "\n",
    "limite_inferior = Q1 - 1.5 * IQR\n",
    "limite_superior = Q3 + 1.5 * IQR\n",
    "\n",
    "mascara_no_outlier = (df[COLUMNA_EDAD] >= limite_inferior) & (df[COLUMNA_EDAD] <= limite_superior)\n",
    "media_no_atipicos = int(round(df.loc[mascara_no_outlier, COLUMNA_EDAD].mean()))\n",
    "\n",
    "df.loc[df[COLUMNA_EDAD] <  limite_inferior, COLUMNA_EDAD] = media_no_atipicos\n",
    "df.loc[df[COLUMNA_EDAD] >  limite_superior, COLUMNA_EDAD] = media_no_atipicos"
   ]
  },
  {
   "cell_type": "markdown",
   "metadata": {
    "id": "a_BNwd2clVs5"
   },
   "source": [
    "Verificamos que ya no hay outliers"
   ]
  },
  {
   "cell_type": "code",
   "execution_count": 976,
   "metadata": {
    "colab": {
     "base_uri": "https://localhost:8080/"
    },
    "executionInfo": {
     "elapsed": 20,
     "status": "ok",
     "timestamp": 1748833403756,
     "user": {
      "displayName": "Leandro Sandoval",
      "userId": "13944790235446664081"
     },
     "user_tz": 180
    },
    "id": "tco0mjK3lVs5",
    "outputId": "65113d43-4cc3-4d7b-9426-bc06ad0fc4be"
   },
   "outputs": [
    {
     "name": "stdout",
     "output_type": "stream",
     "text": [
      "Outliers restantes: 0 (debería ser 0)\n"
     ]
    }
   ],
   "source": [
    "nuevos_outliers = df[(df[COLUMNA_EDAD] <  (Q1 - 1.5 * IQR)) | (df[COLUMNA_EDAD] >  (Q3 + 1.5 * IQR))]\n",
    "print(f'Outliers restantes: {len(nuevos_outliers)} (debería ser 0)')"
   ]
  },
  {
   "cell_type": "markdown",
   "metadata": {
    "id": "Nnc-FjUSlVs5"
   },
   "source": [
    "#### Resultado parcial"
   ]
  },
  {
   "cell_type": "markdown",
   "metadata": {
    "id": "VShb0tETlVs5"
   },
   "source": [
    "Para finalizar, mostramos como quedo nuestro dataset hasta ahora"
   ]
  },
  {
   "cell_type": "code",
   "execution_count": 977,
   "metadata": {
    "colab": {
     "base_uri": "https://localhost:8080/",
     "height": 424
    },
    "executionInfo": {
     "elapsed": 26,
     "status": "ok",
     "timestamp": 1748833403769,
     "user": {
      "displayName": "Leandro Sandoval",
      "userId": "13944790235446664081"
     },
     "user_tz": 180
    },
    "id": "5cku3z9VlVs5",
    "outputId": "275c36f9-3b1f-4276-eda4-2cc4964a5bec"
   },
   "outputs": [
    {
     "data": {
      "text/html": [
       "<div>\n",
       "<style scoped>\n",
       "    .dataframe tbody tr th:only-of-type {\n",
       "        vertical-align: middle;\n",
       "    }\n",
       "\n",
       "    .dataframe tbody tr th {\n",
       "        vertical-align: top;\n",
       "    }\n",
       "\n",
       "    .dataframe thead th {\n",
       "        text-align: right;\n",
       "    }\n",
       "</style>\n",
       "<table border=\"1\" class=\"dataframe\">\n",
       "  <thead>\n",
       "    <tr style=\"text-align: right;\">\n",
       "      <th></th>\n",
       "      <th>overall</th>\n",
       "      <th>age</th>\n",
       "      <th>hits</th>\n",
       "      <th>potential</th>\n",
       "      <th>pos_ST</th>\n",
       "      <th>pos_CF</th>\n",
       "      <th>pos_RW</th>\n",
       "      <th>pos_LW</th>\n",
       "      <th>pos_CAM</th>\n",
       "      <th>pos_CB</th>\n",
       "      <th>...</th>\n",
       "      <th>nac_Brazil</th>\n",
       "      <th>nac_Colombia</th>\n",
       "      <th>nac_England</th>\n",
       "      <th>nac_France</th>\n",
       "      <th>nac_Germany</th>\n",
       "      <th>nac_Italy</th>\n",
       "      <th>nac_Japan</th>\n",
       "      <th>nac_Netherlands</th>\n",
       "      <th>nac_Otro</th>\n",
       "      <th>nac_Spain</th>\n",
       "    </tr>\n",
       "  </thead>\n",
       "  <tbody>\n",
       "    <tr>\n",
       "      <th>0</th>\n",
       "      <td>94</td>\n",
       "      <td>33</td>\n",
       "      <td>299</td>\n",
       "      <td>94</td>\n",
       "      <td>1</td>\n",
       "      <td>1</td>\n",
       "      <td>1</td>\n",
       "      <td>0</td>\n",
       "      <td>0</td>\n",
       "      <td>0</td>\n",
       "      <td>...</td>\n",
       "      <td>False</td>\n",
       "      <td>False</td>\n",
       "      <td>False</td>\n",
       "      <td>False</td>\n",
       "      <td>False</td>\n",
       "      <td>False</td>\n",
       "      <td>False</td>\n",
       "      <td>False</td>\n",
       "      <td>False</td>\n",
       "      <td>False</td>\n",
       "    </tr>\n",
       "    <tr>\n",
       "      <th>1</th>\n",
       "      <td>93</td>\n",
       "      <td>35</td>\n",
       "      <td>276</td>\n",
       "      <td>93</td>\n",
       "      <td>1</td>\n",
       "      <td>0</td>\n",
       "      <td>0</td>\n",
       "      <td>1</td>\n",
       "      <td>0</td>\n",
       "      <td>0</td>\n",
       "      <td>...</td>\n",
       "      <td>False</td>\n",
       "      <td>False</td>\n",
       "      <td>False</td>\n",
       "      <td>False</td>\n",
       "      <td>False</td>\n",
       "      <td>False</td>\n",
       "      <td>False</td>\n",
       "      <td>False</td>\n",
       "      <td>True</td>\n",
       "      <td>False</td>\n",
       "    </tr>\n",
       "    <tr>\n",
       "      <th>2</th>\n",
       "      <td>92</td>\n",
       "      <td>28</td>\n",
       "      <td>186</td>\n",
       "      <td>92</td>\n",
       "      <td>0</td>\n",
       "      <td>0</td>\n",
       "      <td>0</td>\n",
       "      <td>1</td>\n",
       "      <td>1</td>\n",
       "      <td>0</td>\n",
       "      <td>...</td>\n",
       "      <td>True</td>\n",
       "      <td>False</td>\n",
       "      <td>False</td>\n",
       "      <td>False</td>\n",
       "      <td>False</td>\n",
       "      <td>False</td>\n",
       "      <td>False</td>\n",
       "      <td>False</td>\n",
       "      <td>False</td>\n",
       "      <td>False</td>\n",
       "    </tr>\n",
       "    <tr>\n",
       "      <th>3</th>\n",
       "      <td>91</td>\n",
       "      <td>29</td>\n",
       "      <td>127</td>\n",
       "      <td>92</td>\n",
       "      <td>0</td>\n",
       "      <td>0</td>\n",
       "      <td>0</td>\n",
       "      <td>0</td>\n",
       "      <td>0</td>\n",
       "      <td>1</td>\n",
       "      <td>...</td>\n",
       "      <td>False</td>\n",
       "      <td>False</td>\n",
       "      <td>False</td>\n",
       "      <td>False</td>\n",
       "      <td>False</td>\n",
       "      <td>False</td>\n",
       "      <td>False</td>\n",
       "      <td>True</td>\n",
       "      <td>False</td>\n",
       "      <td>False</td>\n",
       "    </tr>\n",
       "    <tr>\n",
       "      <th>4</th>\n",
       "      <td>91</td>\n",
       "      <td>27</td>\n",
       "      <td>47</td>\n",
       "      <td>93</td>\n",
       "      <td>0</td>\n",
       "      <td>0</td>\n",
       "      <td>0</td>\n",
       "      <td>0</td>\n",
       "      <td>0</td>\n",
       "      <td>0</td>\n",
       "      <td>...</td>\n",
       "      <td>False</td>\n",
       "      <td>False</td>\n",
       "      <td>False</td>\n",
       "      <td>False</td>\n",
       "      <td>False</td>\n",
       "      <td>False</td>\n",
       "      <td>False</td>\n",
       "      <td>False</td>\n",
       "      <td>True</td>\n",
       "      <td>False</td>\n",
       "    </tr>\n",
       "    <tr>\n",
       "      <th>...</th>\n",
       "      <td>...</td>\n",
       "      <td>...</td>\n",
       "      <td>...</td>\n",
       "      <td>...</td>\n",
       "      <td>...</td>\n",
       "      <td>...</td>\n",
       "      <td>...</td>\n",
       "      <td>...</td>\n",
       "      <td>...</td>\n",
       "      <td>...</td>\n",
       "      <td>...</td>\n",
       "      <td>...</td>\n",
       "      <td>...</td>\n",
       "      <td>...</td>\n",
       "      <td>...</td>\n",
       "      <td>...</td>\n",
       "      <td>...</td>\n",
       "      <td>...</td>\n",
       "      <td>...</td>\n",
       "      <td>...</td>\n",
       "      <td>...</td>\n",
       "    </tr>\n",
       "    <tr>\n",
       "      <th>17976</th>\n",
       "      <td>56</td>\n",
       "      <td>21</td>\n",
       "      <td>0</td>\n",
       "      <td>64</td>\n",
       "      <td>1</td>\n",
       "      <td>0</td>\n",
       "      <td>0</td>\n",
       "      <td>0</td>\n",
       "      <td>0</td>\n",
       "      <td>0</td>\n",
       "      <td>...</td>\n",
       "      <td>False</td>\n",
       "      <td>False</td>\n",
       "      <td>False</td>\n",
       "      <td>False</td>\n",
       "      <td>False</td>\n",
       "      <td>False</td>\n",
       "      <td>False</td>\n",
       "      <td>False</td>\n",
       "      <td>True</td>\n",
       "      <td>False</td>\n",
       "    </tr>\n",
       "    <tr>\n",
       "      <th>17977</th>\n",
       "      <td>56</td>\n",
       "      <td>23</td>\n",
       "      <td>0</td>\n",
       "      <td>64</td>\n",
       "      <td>0</td>\n",
       "      <td>0</td>\n",
       "      <td>0</td>\n",
       "      <td>0</td>\n",
       "      <td>0</td>\n",
       "      <td>0</td>\n",
       "      <td>...</td>\n",
       "      <td>False</td>\n",
       "      <td>False</td>\n",
       "      <td>False</td>\n",
       "      <td>False</td>\n",
       "      <td>False</td>\n",
       "      <td>False</td>\n",
       "      <td>False</td>\n",
       "      <td>False</td>\n",
       "      <td>True</td>\n",
       "      <td>False</td>\n",
       "    </tr>\n",
       "    <tr>\n",
       "      <th>17978</th>\n",
       "      <td>56</td>\n",
       "      <td>18</td>\n",
       "      <td>1</td>\n",
       "      <td>68</td>\n",
       "      <td>1</td>\n",
       "      <td>0</td>\n",
       "      <td>0</td>\n",
       "      <td>0</td>\n",
       "      <td>0</td>\n",
       "      <td>0</td>\n",
       "      <td>...</td>\n",
       "      <td>False</td>\n",
       "      <td>False</td>\n",
       "      <td>False</td>\n",
       "      <td>False</td>\n",
       "      <td>False</td>\n",
       "      <td>False</td>\n",
       "      <td>False</td>\n",
       "      <td>False</td>\n",
       "      <td>True</td>\n",
       "      <td>False</td>\n",
       "    </tr>\n",
       "    <tr>\n",
       "      <th>17979</th>\n",
       "      <td>56</td>\n",
       "      <td>22</td>\n",
       "      <td>0</td>\n",
       "      <td>62</td>\n",
       "      <td>0</td>\n",
       "      <td>0</td>\n",
       "      <td>1</td>\n",
       "      <td>0</td>\n",
       "      <td>0</td>\n",
       "      <td>0</td>\n",
       "      <td>...</td>\n",
       "      <td>False</td>\n",
       "      <td>False</td>\n",
       "      <td>False</td>\n",
       "      <td>False</td>\n",
       "      <td>False</td>\n",
       "      <td>False</td>\n",
       "      <td>False</td>\n",
       "      <td>False</td>\n",
       "      <td>True</td>\n",
       "      <td>False</td>\n",
       "    </tr>\n",
       "    <tr>\n",
       "      <th>17980</th>\n",
       "      <td>56</td>\n",
       "      <td>18</td>\n",
       "      <td>0</td>\n",
       "      <td>69</td>\n",
       "      <td>0</td>\n",
       "      <td>0</td>\n",
       "      <td>0</td>\n",
       "      <td>0</td>\n",
       "      <td>0</td>\n",
       "      <td>0</td>\n",
       "      <td>...</td>\n",
       "      <td>False</td>\n",
       "      <td>False</td>\n",
       "      <td>False</td>\n",
       "      <td>False</td>\n",
       "      <td>False</td>\n",
       "      <td>False</td>\n",
       "      <td>False</td>\n",
       "      <td>False</td>\n",
       "      <td>True</td>\n",
       "      <td>False</td>\n",
       "    </tr>\n",
       "  </tbody>\n",
       "</table>\n",
       "<p>17981 rows × 30 columns</p>\n",
       "</div>"
      ],
      "text/plain": [
       "       overall  age  hits  potential  pos_ST  pos_CF  pos_RW  pos_LW  pos_CAM  \\\n",
       "0           94   33   299         94       1       1       1       0        0   \n",
       "1           93   35   276         93       1       0       0       1        0   \n",
       "2           92   28   186         92       0       0       0       1        1   \n",
       "3           91   29   127         92       0       0       0       0        0   \n",
       "4           91   27    47         93       0       0       0       0        0   \n",
       "...        ...  ...   ...        ...     ...     ...     ...     ...      ...   \n",
       "17976       56   21     0         64       1       0       0       0        0   \n",
       "17977       56   23     0         64       0       0       0       0        0   \n",
       "17978       56   18     1         68       1       0       0       0        0   \n",
       "17979       56   22     0         62       0       0       1       0        0   \n",
       "17980       56   18     0         69       0       0       0       0        0   \n",
       "\n",
       "       pos_CB  ...  nac_Brazil  nac_Colombia  nac_England  nac_France  \\\n",
       "0           0  ...       False         False        False       False   \n",
       "1           0  ...       False         False        False       False   \n",
       "2           0  ...        True         False        False       False   \n",
       "3           1  ...       False         False        False       False   \n",
       "4           0  ...       False         False        False       False   \n",
       "...       ...  ...         ...           ...          ...         ...   \n",
       "17976       0  ...       False         False        False       False   \n",
       "17977       0  ...       False         False        False       False   \n",
       "17978       0  ...       False         False        False       False   \n",
       "17979       0  ...       False         False        False       False   \n",
       "17980       0  ...       False         False        False       False   \n",
       "\n",
       "       nac_Germany  nac_Italy  nac_Japan  nac_Netherlands  nac_Otro  nac_Spain  \n",
       "0            False      False      False            False     False      False  \n",
       "1            False      False      False            False      True      False  \n",
       "2            False      False      False            False     False      False  \n",
       "3            False      False      False             True     False      False  \n",
       "4            False      False      False            False      True      False  \n",
       "...            ...        ...        ...              ...       ...        ...  \n",
       "17976        False      False      False            False      True      False  \n",
       "17977        False      False      False            False      True      False  \n",
       "17978        False      False      False            False      True      False  \n",
       "17979        False      False      False            False      True      False  \n",
       "17980        False      False      False            False      True      False  \n",
       "\n",
       "[17981 rows x 30 columns]"
      ]
     },
     "execution_count": 977,
     "metadata": {},
     "output_type": "execute_result"
    }
   ],
   "source": [
    "df"
   ]
  },
  {
   "cell_type": "markdown",
   "metadata": {},
   "source": [
    "### 4) Aplicación de Modelo de Regresión"
   ]
  },
  {
   "cell_type": "markdown",
   "metadata": {},
   "source": [
    "* Seleccionar una variable objetivo y las variables predictoras adecuadas para el modelado de regresión.\n",
    "* Dividir el conjunto de datos en conjuntos de entrenamiento y prueba.\n",
    "* Aplicar un modelo de regresión, como regresión lineal o regresión logística.\n",
    "* Evaluar el rendimiento del modelo utilizando métricas apropiadas, como el error cuadrático medio o la precisión del modelo.\n",
    "* Ajustar y optimizar los parámetros del modelo para mejorar su rendimiento."
   ]
  },
  {
   "cell_type": "markdown",
   "metadata": {},
   "source": [
    "#### a) Preprocesamiento de datos"
   ]
  },
  {
   "cell_type": "markdown",
   "metadata": {},
   "source": [
    "Definimos variables predictoras y target. Como antes realizamos el procesamiento de datos sobre variables categoricas, datos faltantes (nulos), e imputacion de los datos. Podremos utilizar todas las columnas."
   ]
  },
  {
   "cell_type": "code",
   "execution_count": 985,
   "metadata": {},
   "outputs": [],
   "source": [
    "X = df.drop(columns=[COLUMNA_OVERALL])\n",
    "y = df[COLUMNA_OVERALL]"
   ]
  },
  {
   "cell_type": "markdown",
   "metadata": {},
   "source": [
    "#### b) División en entrenamiento y prueba"
   ]
  },
  {
   "cell_type": "code",
   "execution_count": 986,
   "metadata": {},
   "outputs": [],
   "source": [
    "X_train, X_test, y_train, y_test = train_test_split(X, y, test_size=0.2, random_state=42)"
   ]
  },
  {
   "cell_type": "markdown",
   "metadata": {},
   "source": [
    "#### c) Normalización de Entrenamiento y Prueba luego del Train-Test Split"
   ]
  },
  {
   "cell_type": "code",
   "execution_count": 987,
   "metadata": {},
   "outputs": [],
   "source": [
    "scaler = StandardScaler()\n",
    "X_train_scaled = scaler.fit_transform(X_train)\n",
    "X_test_scaled = scaler.transform(X_test)"
   ]
  },
  {
   "cell_type": "markdown",
   "metadata": {},
   "source": [
    "#### d) Entrenamiento del modelo"
   ]
  },
  {
   "cell_type": "markdown",
   "metadata": {},
   "source": [
    "Aplicamos el modelo de Regresión Lineal"
   ]
  },
  {
   "cell_type": "code",
   "execution_count": 988,
   "metadata": {},
   "outputs": [
    {
     "data": {
      "text/html": [
       "<style>#sk-container-id-23 {\n",
       "  /* Definition of color scheme common for light and dark mode */\n",
       "  --sklearn-color-text: #000;\n",
       "  --sklearn-color-text-muted: #666;\n",
       "  --sklearn-color-line: gray;\n",
       "  /* Definition of color scheme for unfitted estimators */\n",
       "  --sklearn-color-unfitted-level-0: #fff5e6;\n",
       "  --sklearn-color-unfitted-level-1: #f6e4d2;\n",
       "  --sklearn-color-unfitted-level-2: #ffe0b3;\n",
       "  --sklearn-color-unfitted-level-3: chocolate;\n",
       "  /* Definition of color scheme for fitted estimators */\n",
       "  --sklearn-color-fitted-level-0: #f0f8ff;\n",
       "  --sklearn-color-fitted-level-1: #d4ebff;\n",
       "  --sklearn-color-fitted-level-2: #b3dbfd;\n",
       "  --sklearn-color-fitted-level-3: cornflowerblue;\n",
       "\n",
       "  /* Specific color for light theme */\n",
       "  --sklearn-color-text-on-default-background: var(--sg-text-color, var(--theme-code-foreground, var(--jp-content-font-color1, black)));\n",
       "  --sklearn-color-background: var(--sg-background-color, var(--theme-background, var(--jp-layout-color0, white)));\n",
       "  --sklearn-color-border-box: var(--sg-text-color, var(--theme-code-foreground, var(--jp-content-font-color1, black)));\n",
       "  --sklearn-color-icon: #696969;\n",
       "\n",
       "  @media (prefers-color-scheme: dark) {\n",
       "    /* Redefinition of color scheme for dark theme */\n",
       "    --sklearn-color-text-on-default-background: var(--sg-text-color, var(--theme-code-foreground, var(--jp-content-font-color1, white)));\n",
       "    --sklearn-color-background: var(--sg-background-color, var(--theme-background, var(--jp-layout-color0, #111)));\n",
       "    --sklearn-color-border-box: var(--sg-text-color, var(--theme-code-foreground, var(--jp-content-font-color1, white)));\n",
       "    --sklearn-color-icon: #878787;\n",
       "  }\n",
       "}\n",
       "\n",
       "#sk-container-id-23 {\n",
       "  color: var(--sklearn-color-text);\n",
       "}\n",
       "\n",
       "#sk-container-id-23 pre {\n",
       "  padding: 0;\n",
       "}\n",
       "\n",
       "#sk-container-id-23 input.sk-hidden--visually {\n",
       "  border: 0;\n",
       "  clip: rect(1px 1px 1px 1px);\n",
       "  clip: rect(1px, 1px, 1px, 1px);\n",
       "  height: 1px;\n",
       "  margin: -1px;\n",
       "  overflow: hidden;\n",
       "  padding: 0;\n",
       "  position: absolute;\n",
       "  width: 1px;\n",
       "}\n",
       "\n",
       "#sk-container-id-23 div.sk-dashed-wrapped {\n",
       "  border: 1px dashed var(--sklearn-color-line);\n",
       "  margin: 0 0.4em 0.5em 0.4em;\n",
       "  box-sizing: border-box;\n",
       "  padding-bottom: 0.4em;\n",
       "  background-color: var(--sklearn-color-background);\n",
       "}\n",
       "\n",
       "#sk-container-id-23 div.sk-container {\n",
       "  /* jupyter's `normalize.less` sets `[hidden] { display: none; }`\n",
       "     but bootstrap.min.css set `[hidden] { display: none !important; }`\n",
       "     so we also need the `!important` here to be able to override the\n",
       "     default hidden behavior on the sphinx rendered scikit-learn.org.\n",
       "     See: https://github.com/scikit-learn/scikit-learn/issues/21755 */\n",
       "  display: inline-block !important;\n",
       "  position: relative;\n",
       "}\n",
       "\n",
       "#sk-container-id-23 div.sk-text-repr-fallback {\n",
       "  display: none;\n",
       "}\n",
       "\n",
       "div.sk-parallel-item,\n",
       "div.sk-serial,\n",
       "div.sk-item {\n",
       "  /* draw centered vertical line to link estimators */\n",
       "  background-image: linear-gradient(var(--sklearn-color-text-on-default-background), var(--sklearn-color-text-on-default-background));\n",
       "  background-size: 2px 100%;\n",
       "  background-repeat: no-repeat;\n",
       "  background-position: center center;\n",
       "}\n",
       "\n",
       "/* Parallel-specific style estimator block */\n",
       "\n",
       "#sk-container-id-23 div.sk-parallel-item::after {\n",
       "  content: \"\";\n",
       "  width: 100%;\n",
       "  border-bottom: 2px solid var(--sklearn-color-text-on-default-background);\n",
       "  flex-grow: 1;\n",
       "}\n",
       "\n",
       "#sk-container-id-23 div.sk-parallel {\n",
       "  display: flex;\n",
       "  align-items: stretch;\n",
       "  justify-content: center;\n",
       "  background-color: var(--sklearn-color-background);\n",
       "  position: relative;\n",
       "}\n",
       "\n",
       "#sk-container-id-23 div.sk-parallel-item {\n",
       "  display: flex;\n",
       "  flex-direction: column;\n",
       "}\n",
       "\n",
       "#sk-container-id-23 div.sk-parallel-item:first-child::after {\n",
       "  align-self: flex-end;\n",
       "  width: 50%;\n",
       "}\n",
       "\n",
       "#sk-container-id-23 div.sk-parallel-item:last-child::after {\n",
       "  align-self: flex-start;\n",
       "  width: 50%;\n",
       "}\n",
       "\n",
       "#sk-container-id-23 div.sk-parallel-item:only-child::after {\n",
       "  width: 0;\n",
       "}\n",
       "\n",
       "/* Serial-specific style estimator block */\n",
       "\n",
       "#sk-container-id-23 div.sk-serial {\n",
       "  display: flex;\n",
       "  flex-direction: column;\n",
       "  align-items: center;\n",
       "  background-color: var(--sklearn-color-background);\n",
       "  padding-right: 1em;\n",
       "  padding-left: 1em;\n",
       "}\n",
       "\n",
       "\n",
       "/* Toggleable style: style used for estimator/Pipeline/ColumnTransformer box that is\n",
       "clickable and can be expanded/collapsed.\n",
       "- Pipeline and ColumnTransformer use this feature and define the default style\n",
       "- Estimators will overwrite some part of the style using the `sk-estimator` class\n",
       "*/\n",
       "\n",
       "/* Pipeline and ColumnTransformer style (default) */\n",
       "\n",
       "#sk-container-id-23 div.sk-toggleable {\n",
       "  /* Default theme specific background. It is overwritten whether we have a\n",
       "  specific estimator or a Pipeline/ColumnTransformer */\n",
       "  background-color: var(--sklearn-color-background);\n",
       "}\n",
       "\n",
       "/* Toggleable label */\n",
       "#sk-container-id-23 label.sk-toggleable__label {\n",
       "  cursor: pointer;\n",
       "  display: flex;\n",
       "  width: 100%;\n",
       "  margin-bottom: 0;\n",
       "  padding: 0.5em;\n",
       "  box-sizing: border-box;\n",
       "  text-align: center;\n",
       "  align-items: start;\n",
       "  justify-content: space-between;\n",
       "  gap: 0.5em;\n",
       "}\n",
       "\n",
       "#sk-container-id-23 label.sk-toggleable__label .caption {\n",
       "  font-size: 0.6rem;\n",
       "  font-weight: lighter;\n",
       "  color: var(--sklearn-color-text-muted);\n",
       "}\n",
       "\n",
       "#sk-container-id-23 label.sk-toggleable__label-arrow:before {\n",
       "  /* Arrow on the left of the label */\n",
       "  content: \"▸\";\n",
       "  float: left;\n",
       "  margin-right: 0.25em;\n",
       "  color: var(--sklearn-color-icon);\n",
       "}\n",
       "\n",
       "#sk-container-id-23 label.sk-toggleable__label-arrow:hover:before {\n",
       "  color: var(--sklearn-color-text);\n",
       "}\n",
       "\n",
       "/* Toggleable content - dropdown */\n",
       "\n",
       "#sk-container-id-23 div.sk-toggleable__content {\n",
       "  max-height: 0;\n",
       "  max-width: 0;\n",
       "  overflow: hidden;\n",
       "  text-align: left;\n",
       "  /* unfitted */\n",
       "  background-color: var(--sklearn-color-unfitted-level-0);\n",
       "}\n",
       "\n",
       "#sk-container-id-23 div.sk-toggleable__content.fitted {\n",
       "  /* fitted */\n",
       "  background-color: var(--sklearn-color-fitted-level-0);\n",
       "}\n",
       "\n",
       "#sk-container-id-23 div.sk-toggleable__content pre {\n",
       "  margin: 0.2em;\n",
       "  border-radius: 0.25em;\n",
       "  color: var(--sklearn-color-text);\n",
       "  /* unfitted */\n",
       "  background-color: var(--sklearn-color-unfitted-level-0);\n",
       "}\n",
       "\n",
       "#sk-container-id-23 div.sk-toggleable__content.fitted pre {\n",
       "  /* unfitted */\n",
       "  background-color: var(--sklearn-color-fitted-level-0);\n",
       "}\n",
       "\n",
       "#sk-container-id-23 input.sk-toggleable__control:checked~div.sk-toggleable__content {\n",
       "  /* Expand drop-down */\n",
       "  max-height: 200px;\n",
       "  max-width: 100%;\n",
       "  overflow: auto;\n",
       "}\n",
       "\n",
       "#sk-container-id-23 input.sk-toggleable__control:checked~label.sk-toggleable__label-arrow:before {\n",
       "  content: \"▾\";\n",
       "}\n",
       "\n",
       "/* Pipeline/ColumnTransformer-specific style */\n",
       "\n",
       "#sk-container-id-23 div.sk-label input.sk-toggleable__control:checked~label.sk-toggleable__label {\n",
       "  color: var(--sklearn-color-text);\n",
       "  background-color: var(--sklearn-color-unfitted-level-2);\n",
       "}\n",
       "\n",
       "#sk-container-id-23 div.sk-label.fitted input.sk-toggleable__control:checked~label.sk-toggleable__label {\n",
       "  background-color: var(--sklearn-color-fitted-level-2);\n",
       "}\n",
       "\n",
       "/* Estimator-specific style */\n",
       "\n",
       "/* Colorize estimator box */\n",
       "#sk-container-id-23 div.sk-estimator input.sk-toggleable__control:checked~label.sk-toggleable__label {\n",
       "  /* unfitted */\n",
       "  background-color: var(--sklearn-color-unfitted-level-2);\n",
       "}\n",
       "\n",
       "#sk-container-id-23 div.sk-estimator.fitted input.sk-toggleable__control:checked~label.sk-toggleable__label {\n",
       "  /* fitted */\n",
       "  background-color: var(--sklearn-color-fitted-level-2);\n",
       "}\n",
       "\n",
       "#sk-container-id-23 div.sk-label label.sk-toggleable__label,\n",
       "#sk-container-id-23 div.sk-label label {\n",
       "  /* The background is the default theme color */\n",
       "  color: var(--sklearn-color-text-on-default-background);\n",
       "}\n",
       "\n",
       "/* On hover, darken the color of the background */\n",
       "#sk-container-id-23 div.sk-label:hover label.sk-toggleable__label {\n",
       "  color: var(--sklearn-color-text);\n",
       "  background-color: var(--sklearn-color-unfitted-level-2);\n",
       "}\n",
       "\n",
       "/* Label box, darken color on hover, fitted */\n",
       "#sk-container-id-23 div.sk-label.fitted:hover label.sk-toggleable__label.fitted {\n",
       "  color: var(--sklearn-color-text);\n",
       "  background-color: var(--sklearn-color-fitted-level-2);\n",
       "}\n",
       "\n",
       "/* Estimator label */\n",
       "\n",
       "#sk-container-id-23 div.sk-label label {\n",
       "  font-family: monospace;\n",
       "  font-weight: bold;\n",
       "  display: inline-block;\n",
       "  line-height: 1.2em;\n",
       "}\n",
       "\n",
       "#sk-container-id-23 div.sk-label-container {\n",
       "  text-align: center;\n",
       "}\n",
       "\n",
       "/* Estimator-specific */\n",
       "#sk-container-id-23 div.sk-estimator {\n",
       "  font-family: monospace;\n",
       "  border: 1px dotted var(--sklearn-color-border-box);\n",
       "  border-radius: 0.25em;\n",
       "  box-sizing: border-box;\n",
       "  margin-bottom: 0.5em;\n",
       "  /* unfitted */\n",
       "  background-color: var(--sklearn-color-unfitted-level-0);\n",
       "}\n",
       "\n",
       "#sk-container-id-23 div.sk-estimator.fitted {\n",
       "  /* fitted */\n",
       "  background-color: var(--sklearn-color-fitted-level-0);\n",
       "}\n",
       "\n",
       "/* on hover */\n",
       "#sk-container-id-23 div.sk-estimator:hover {\n",
       "  /* unfitted */\n",
       "  background-color: var(--sklearn-color-unfitted-level-2);\n",
       "}\n",
       "\n",
       "#sk-container-id-23 div.sk-estimator.fitted:hover {\n",
       "  /* fitted */\n",
       "  background-color: var(--sklearn-color-fitted-level-2);\n",
       "}\n",
       "\n",
       "/* Specification for estimator info (e.g. \"i\" and \"?\") */\n",
       "\n",
       "/* Common style for \"i\" and \"?\" */\n",
       "\n",
       ".sk-estimator-doc-link,\n",
       "a:link.sk-estimator-doc-link,\n",
       "a:visited.sk-estimator-doc-link {\n",
       "  float: right;\n",
       "  font-size: smaller;\n",
       "  line-height: 1em;\n",
       "  font-family: monospace;\n",
       "  background-color: var(--sklearn-color-background);\n",
       "  border-radius: 1em;\n",
       "  height: 1em;\n",
       "  width: 1em;\n",
       "  text-decoration: none !important;\n",
       "  margin-left: 0.5em;\n",
       "  text-align: center;\n",
       "  /* unfitted */\n",
       "  border: var(--sklearn-color-unfitted-level-1) 1pt solid;\n",
       "  color: var(--sklearn-color-unfitted-level-1);\n",
       "}\n",
       "\n",
       ".sk-estimator-doc-link.fitted,\n",
       "a:link.sk-estimator-doc-link.fitted,\n",
       "a:visited.sk-estimator-doc-link.fitted {\n",
       "  /* fitted */\n",
       "  border: var(--sklearn-color-fitted-level-1) 1pt solid;\n",
       "  color: var(--sklearn-color-fitted-level-1);\n",
       "}\n",
       "\n",
       "/* On hover */\n",
       "div.sk-estimator:hover .sk-estimator-doc-link:hover,\n",
       ".sk-estimator-doc-link:hover,\n",
       "div.sk-label-container:hover .sk-estimator-doc-link:hover,\n",
       ".sk-estimator-doc-link:hover {\n",
       "  /* unfitted */\n",
       "  background-color: var(--sklearn-color-unfitted-level-3);\n",
       "  color: var(--sklearn-color-background);\n",
       "  text-decoration: none;\n",
       "}\n",
       "\n",
       "div.sk-estimator.fitted:hover .sk-estimator-doc-link.fitted:hover,\n",
       ".sk-estimator-doc-link.fitted:hover,\n",
       "div.sk-label-container:hover .sk-estimator-doc-link.fitted:hover,\n",
       ".sk-estimator-doc-link.fitted:hover {\n",
       "  /* fitted */\n",
       "  background-color: var(--sklearn-color-fitted-level-3);\n",
       "  color: var(--sklearn-color-background);\n",
       "  text-decoration: none;\n",
       "}\n",
       "\n",
       "/* Span, style for the box shown on hovering the info icon */\n",
       ".sk-estimator-doc-link span {\n",
       "  display: none;\n",
       "  z-index: 9999;\n",
       "  position: relative;\n",
       "  font-weight: normal;\n",
       "  right: .2ex;\n",
       "  padding: .5ex;\n",
       "  margin: .5ex;\n",
       "  width: min-content;\n",
       "  min-width: 20ex;\n",
       "  max-width: 50ex;\n",
       "  color: var(--sklearn-color-text);\n",
       "  box-shadow: 2pt 2pt 4pt #999;\n",
       "  /* unfitted */\n",
       "  background: var(--sklearn-color-unfitted-level-0);\n",
       "  border: .5pt solid var(--sklearn-color-unfitted-level-3);\n",
       "}\n",
       "\n",
       ".sk-estimator-doc-link.fitted span {\n",
       "  /* fitted */\n",
       "  background: var(--sklearn-color-fitted-level-0);\n",
       "  border: var(--sklearn-color-fitted-level-3);\n",
       "}\n",
       "\n",
       ".sk-estimator-doc-link:hover span {\n",
       "  display: block;\n",
       "}\n",
       "\n",
       "/* \"?\"-specific style due to the `<a>` HTML tag */\n",
       "\n",
       "#sk-container-id-23 a.estimator_doc_link {\n",
       "  float: right;\n",
       "  font-size: 1rem;\n",
       "  line-height: 1em;\n",
       "  font-family: monospace;\n",
       "  background-color: var(--sklearn-color-background);\n",
       "  border-radius: 1rem;\n",
       "  height: 1rem;\n",
       "  width: 1rem;\n",
       "  text-decoration: none;\n",
       "  /* unfitted */\n",
       "  color: var(--sklearn-color-unfitted-level-1);\n",
       "  border: var(--sklearn-color-unfitted-level-1) 1pt solid;\n",
       "}\n",
       "\n",
       "#sk-container-id-23 a.estimator_doc_link.fitted {\n",
       "  /* fitted */\n",
       "  border: var(--sklearn-color-fitted-level-1) 1pt solid;\n",
       "  color: var(--sklearn-color-fitted-level-1);\n",
       "}\n",
       "\n",
       "/* On hover */\n",
       "#sk-container-id-23 a.estimator_doc_link:hover {\n",
       "  /* unfitted */\n",
       "  background-color: var(--sklearn-color-unfitted-level-3);\n",
       "  color: var(--sklearn-color-background);\n",
       "  text-decoration: none;\n",
       "}\n",
       "\n",
       "#sk-container-id-23 a.estimator_doc_link.fitted:hover {\n",
       "  /* fitted */\n",
       "  background-color: var(--sklearn-color-fitted-level-3);\n",
       "}\n",
       "</style><div id=\"sk-container-id-23\" class=\"sk-top-container\"><div class=\"sk-text-repr-fallback\"><pre>LinearRegression()</pre><b>In a Jupyter environment, please rerun this cell to show the HTML representation or trust the notebook. <br />On GitHub, the HTML representation is unable to render, please try loading this page with nbviewer.org.</b></div><div class=\"sk-container\" hidden><div class=\"sk-item\"><div class=\"sk-estimator fitted sk-toggleable\"><input class=\"sk-toggleable__control sk-hidden--visually\" id=\"sk-estimator-id-23\" type=\"checkbox\" checked><label for=\"sk-estimator-id-23\" class=\"sk-toggleable__label fitted sk-toggleable__label-arrow\"><div><div>LinearRegression</div></div><div><a class=\"sk-estimator-doc-link fitted\" rel=\"noreferrer\" target=\"_blank\" href=\"https://scikit-learn.org/1.6/modules/generated/sklearn.linear_model.LinearRegression.html\">?<span>Documentation for LinearRegression</span></a><span class=\"sk-estimator-doc-link fitted\">i<span>Fitted</span></span></div></label><div class=\"sk-toggleable__content fitted\"><pre>LinearRegression()</pre></div> </div></div></div></div>"
      ],
      "text/plain": [
       "LinearRegression()"
      ]
     },
     "execution_count": 988,
     "metadata": {},
     "output_type": "execute_result"
    }
   ],
   "source": [
    "lr = LinearRegression()\n",
    "lr.fit(X_train_scaled, y_train)"
   ]
  },
  {
   "cell_type": "markdown",
   "metadata": {},
   "source": [
    "#### e) Evaluación del Modelo"
   ]
  },
  {
   "cell_type": "code",
   "execution_count": 989,
   "metadata": {},
   "outputs": [
    {
     "name": "stdout",
     "output_type": "stream",
     "text": [
      "MSE:  6.12\n",
      "RMSE: 2.47\n",
      "R²:   0.825\n"
     ]
    }
   ],
   "source": [
    "y_pred = lr.predict(X_test_scaled)\n",
    "mse  = mean_squared_error(y_test, y_pred)\n",
    "rmse = np.sqrt(mse)\n",
    "r2   = r2_score(y_test, y_pred)\n",
    "print(f\"MSE:  {mse:.2f}\")\n",
    "print(f\"RMSE: {rmse:.2f}\")\n",
    "print(f\"R²:   {r2:.3f}\")"
   ]
  },
  {
   "cell_type": "markdown",
   "metadata": {},
   "source": [
    "Con estos valores determinamos que RMSE es de aproximadamente 2.47, indica que en promedio, la predicción de \"overall\" se desvía de la realidad en unas 2.5 unidades de rating. Dado que el \"overall\" va típicamente de 50 a 100, un error de 2.5 puntos es bastante bajo."
   ]
  },
  {
   "cell_type": "markdown",
   "metadata": {},
   "source": [
    "Nuestro modelo explica el 82.5% de varianza de overall. Es un rendimiento bueno para un modelo lineal con todas las variales imputadas."
   ]
  },
  {
   "cell_type": "markdown",
   "metadata": {},
   "source": [
    "#### f) Coeficientes del Modelo"
   ]
  },
  {
   "cell_type": "markdown",
   "metadata": {},
   "source": [
    "Estos coeficientes indican como cambia, en promedio y manteniendo fijas las demas variables, la prediccion de overall por cada unidad de cambio en la variable asociada."
   ]
  },
  {
   "cell_type": "code",
   "execution_count": 990,
   "metadata": {},
   "outputs": [
    {
     "name": "stdout",
     "output_type": "stream",
     "text": [
      "potential          5.078456\n",
      "age                4.004253\n",
      "nac_Brazil         0.586628\n",
      "hits               0.337311\n",
      "pos_LM             0.157031\n",
      "pos_RM             0.152182\n",
      "pos_RB             0.094445\n",
      "pos_ST             0.089693\n",
      "pos_CM             0.072330\n",
      "pos_LB             0.069719\n",
      "pos_RW             0.064540\n",
      "pos_LW             0.063619\n",
      "pos_CDM            0.057416\n",
      "nac_Netherlands    0.039737\n",
      "pos_CAM            0.034850\n",
      "pos_RWB            0.028562\n",
      "pos_CF             0.021621\n",
      "pos_LWB            0.019216\n",
      "nac_Japan         -0.003082\n",
      "nac_Germany       -0.014105\n",
      "nac_France        -0.016260\n",
      "pos_CB            -0.024987\n",
      "nac_Otro          -0.033022\n",
      "nac_Spain         -0.037148\n",
      "nac_Italy         -0.039624\n",
      "nac_Colombia      -0.074650\n",
      "nac_Argentina     -0.099544\n",
      "pos_GK            -0.203038\n",
      "nac_England       -0.213050\n",
      "dtype: float64\n"
     ]
    }
   ],
   "source": [
    "coeffs = pd.Series(lr.coef_, index=X.columns)\n",
    "print(coeffs.sort_values(ascending=False))"
   ]
  },
  {
   "cell_type": "markdown",
   "metadata": {},
   "source": [
    "Podemos determinar que `potential` y `age` dominan el modelo. Esto quiere decir que, por cada punto extra de **potential**, el **overall** predicho sube en unos **5 puntos**. Por otro lado, por cada año mas de edad, el **overall** sube en unos **4 puntos**.\n",
    "\n",
    "Esto explica que la mayor parte de la varianza se capta con estas dos variables: Cuanto mayor sea el potencial y, hasta cierto punto, la edad del jugador, más alto es el \"overall\" esperado."
   ]
  },
  {
   "cell_type": "markdown",
   "metadata": {},
   "source": [
    "#### g) Gráfico: Predicción vs Real"
   ]
  },
  {
   "cell_type": "code",
   "execution_count": 991,
   "metadata": {},
   "outputs": [
    {
     "data": {
      "image/png": "[encoded data removed]",
      "text/plain": [
       "<Figure size 640x480 with 1 Axes>"
      ]
     },
     "metadata": {},
     "output_type": "display_data"
    }
   ],
   "source": [
    "plt.figure()\n",
    "plt.scatter(y_test, y_pred)\n",
    "plt.plot([y_test.min(), y_test.max()], [y_test.min(), y_test.max()], linewidth=2)\n",
    "plt.xlabel('Overall Real')\n",
    "plt.ylabel('Overall Predicho')\n",
    "plt.title('Predicción vs Real - Regresión Lineal')\n",
    "plt.show()"
   ]
  },
  {
   "cell_type": "markdown",
   "metadata": {},
   "source": [
    "#### h) Conclusión"
   ]
  },
  {
   "cell_type": "markdown",
   "metadata": {},
   "source": [
    "Podemos observar varios puntos dado este gráfico:\n",
    "\n",
    "* **Alineación con la diagonal**: La mayoría de los puntos se agrupan muy cerca de la linea y = x, lo que indica que el modelo de regresión lineal está prediciendo con bastante precisión los valores de `overall`.\n",
    "* **Dispersión en valores altos**: En los ratings por encima de 85-90 se aprecia un poco mas de esparcimiento de los puntos. Ahí el modelo pierde precisión relativa, tal como sugería el ligero aumento de residuales en los extremos.\n",
    "* **Homogeneidad de los errores**: El \"ancho\" de la nube de puntos se mantiewne bastante uniforme a lo largo del rango promedio (60 - 85), lo que indica que varianza de error constante."
   ]
  },
  {
   "cell_type": "markdown",
   "metadata": {},
   "source": [
    "El ajuste linea captura correctamente la relación entre las variables predictoras y el `overall`, con un error promedio (RMSE) bajo y sin sesgos importantes; solo en los ratings mas altos se aprecia algo más de dispersión, lo que podría mejorarse con un modelo más flexible."
   ]
  }
 ],
 "metadata": {
  "colab": {
   "provenance": []
  },
  "kernelspec": {
   "display_name": "Python 3",
   "name": "python3"
  },
  "language_info": {
   "codemirror_mode": {
    "name": "ipython",
    "version": 3
   },
   "file_extension": ".py",
   "mimetype": "text/x-python",
   "name": "python",
   "nbconvert_exporter": "python",
   "pygments_lexer": "ipython3",
   "version": "3.13.1"
  }
 },
 "nbformat": 4,
 "nbformat_minor": 0
}
